{
  "nbformat": 4,
  "nbformat_minor": 0,
  "metadata": {
    "kernelspec": {
      "display_name": "Python 3",
      "language": "python",
      "name": "python3"
    },
    "language_info": {
      "codemirror_mode": {
        "name": "ipython",
        "version": 3
      },
      "file_extension": ".py",
      "mimetype": "text/x-python",
      "name": "python",
      "nbconvert_exporter": "python",
      "pygments_lexer": "ipython3",
      "version": "3.6.9"
    },
    "colab": {
      "name": "Projeto Final ML - Borba e Graicer.ipynb",
      "provenance": [],
      "collapsed_sections": [],
      "toc_visible": true
    },
    "accelerator": "GPU"
  },
  "cells": [
    {
      "cell_type": "markdown",
      "metadata": {
        "id": "2UzGfmhNBdVc",
        "colab_type": "text"
      },
      "source": [
        "# *Prevendo o sucesso de jogos da Steam*\n",
        "#### Filipe F. Borba  e Guilherme Z. Graicer\n",
        "#### Insper\n",
        "#### Machine Learning, Prof. Fábio Ayres\n"
      ]
    },
    {
      "cell_type": "markdown",
      "metadata": {
        "id": "2AWcHXYfCBp1",
        "colab_type": "text"
      },
      "source": [
        "A indústria dos games é um setor de escala gigantesca. Na verdade, já é [maior do que a indústria cinematográfica e da música combinadas](https://www.bbc.com/news/technology-46746593), com um número aproximado de 2.5 bilhões de gamers espalhados pelo mundo. Não apenas isso, mas apenas [o jogo Fornite faturou $2.4 bilhões em 2018](https://www.businessinsider.com/how-much-money-does-fortnite-make-2019-1). \n",
        "\n",
        "Com isso, verifica-se a importância de se estudar este mercado e entender suas tendências. Empresas grandes como Microsoft, já fazem sua parte nessa indústria, enquanto outras, como Google, estudam meios para entrar nesse setor ([Google Stadia](https://stadia.google.com/) é um exemplo).\n",
        "\n",
        "Estudando o cenário, existem  projetos de machine learning que utilizam informações parecidas, mas com aplicações diferentes do nosso projeto. Temos como exemplo o [GameRatingsPredictor](https:///github.com/RobertoFalconi/GameRatingsPredictor), que visa predizer qual a faixa etária permitida para certos jogos usando Random Forest (e outros modelos de comparação). Outros projetos já visam a recomendação de certos jogos baseados nas afinidades do usuário, como é o caso do sistema da própria Steam, o [Interactive Recommender](https://arstechnica.com/gaming/2019/07/steam-turns-to-ai-to-help-users-find-gems-amid-thousands-of-games/).\n",
        "\n",
        "Assim, gostaríamos de utilizar as técnicas de Machine Learning passadas durante a disciplina para verificar que tipos de jogos são mais atrativos para os jogadores. Para isso, utilizaremos os dados de uma das mais famosas plataformas de jogos, a Steam.\n",
        "\n",
        "# Importando os dados\n",
        "\n",
        "Os dados foram retirados da plataforma Kaggle de um dataset (com boas avaliações dadas pelos usuários), o [Steam Store Games](https://www.kaggle.com/nikdavis/steam-store-games?select=steam.csv). Através de uma análise rápida, pudemos verificar que os dados são de boa qualidade e temos diversas features relevantes para o projeto. Os dados deste dataset são relativamente recentes: vão até maio de 2019, o que também é positivo.\n",
        "\n",
        "Nesta primeira seção, vamos importar as bibliotecas necessárias e carregar os dados.\n",
        "\n",
        "Obs: Este projeto foi feito utilizando o Google Colab.\n"
      ]
    },
    {
      "cell_type": "code",
      "metadata": {
        "id": "4Rt8oO6qIrT9",
        "colab_type": "code",
        "colab": {}
      },
      "source": [
        "# Aqui importamos todas as dependências do projeto\n",
        "\n",
        "from sklearn.ensemble import RandomForestRegressor\n",
        "from sklearn.linear_model import LinearRegression\n",
        "from sklearn.metrics import mean_squared_error\n",
        "from sklearn.tree import DecisionTreeRegressor\n",
        "from sklearn.linear_model import ElasticNet, Lasso, Ridge\n",
        "\n",
        "from joblib import dump, load\n",
        "\n",
        "\n",
        "# Dependências auxiliares\n",
        "import numpy as np\n",
        "import matplotlib.pyplot as plt\n",
        "%matplotlib inline\n",
        "import pandas as pd\n",
        "from collections import Counter\n",
        "from pprint import pprint\n",
        "\n",
        "# Permite que os resultados sejam reproduzíveis. Seed de aleatoriedade.\n",
        "RANDOM_SEED = 42\n",
        "np.random.seed(RANDOM_SEED)"
      ],
      "execution_count": 1,
      "outputs": []
    },
    {
      "cell_type": "code",
      "metadata": {
        "id": "2L34GpciQ1DI",
        "colab_type": "code",
        "colab": {}
      },
      "source": [
        "\"\"\"\n",
        "Caso esteja utilizando o Google Colab, será necessário importar o steam.csv para o workspace.\n",
        "Caso esteja rodando o notebook localmente, basta copiar o steam.csv para a mesma pasta do notebook.\n",
        "\n",
        "Aqui, fazemos a leitura do CSV num dataframe Pandas.\n",
        "\"\"\"\n",
        "FILE = 'steam.csv'\n",
        "df = pd.read_csv(FILE)"
      ],
      "execution_count": 2,
      "outputs": []
    },
    {
      "cell_type": "markdown",
      "metadata": {
        "id": "Mh7ZtneRTU1o",
        "colab_type": "text"
      },
      "source": [
        "# Explorando o Dataset\n",
        "\n",
        "Nesta seção, estamos tentando entender melhor os dados do dataset de jogos da steam. Buscamos ver a correlação das variáveis, dados faltando, outliers e outras informações importantes acerca do dataset.\n",
        "\n",
        "Primeiro, procuramos entender o tamanho do dataset, os tipos dos dados e o conteúdo de algumas linhas."
      ]
    },
    {
      "cell_type": "code",
      "metadata": {
        "id": "1bLOXAueIrUS",
        "colab_type": "code",
        "colab": {
          "base_uri": "https://localhost:8080/",
          "height": 442
        },
        "outputId": "667d9a99-f40a-49d5-fe48-381a0f33b8c7"
      },
      "source": [
        "df.info()"
      ],
      "execution_count": 3,
      "outputs": [
        {
          "output_type": "stream",
          "text": [
            "<class 'pandas.core.frame.DataFrame'>\n",
            "RangeIndex: 27075 entries, 0 to 27074\n",
            "Data columns (total 18 columns):\n",
            " #   Column            Non-Null Count  Dtype  \n",
            "---  ------            --------------  -----  \n",
            " 0   appid             27075 non-null  int64  \n",
            " 1   name              27075 non-null  object \n",
            " 2   release_date      27075 non-null  object \n",
            " 3   english           27075 non-null  int64  \n",
            " 4   developer         27075 non-null  object \n",
            " 5   publisher         27075 non-null  object \n",
            " 6   platforms         27075 non-null  object \n",
            " 7   required_age      27075 non-null  int64  \n",
            " 8   categories        27075 non-null  object \n",
            " 9   genres            27075 non-null  object \n",
            " 10  steamspy_tags     27075 non-null  object \n",
            " 11  achievements      27075 non-null  int64  \n",
            " 12  positive_ratings  27075 non-null  int64  \n",
            " 13  negative_ratings  27075 non-null  int64  \n",
            " 14  average_playtime  27075 non-null  int64  \n",
            " 15  median_playtime   27075 non-null  int64  \n",
            " 16  owners            27075 non-null  object \n",
            " 17  price             27075 non-null  float64\n",
            "dtypes: float64(1), int64(8), object(9)\n",
            "memory usage: 3.7+ MB\n"
          ],
          "name": "stdout"
        }
      ]
    },
    {
      "cell_type": "code",
      "metadata": {
        "id": "X_ylh0OmIrUZ",
        "colab_type": "code",
        "colab": {
          "base_uri": "https://localhost:8080/",
          "height": 547
        },
        "outputId": "6d253379-d012-4a84-d999-190dcb7a5511"
      },
      "source": [
        "df.head(n=5)"
      ],
      "execution_count": 4,
      "outputs": [
        {
          "output_type": "execute_result",
          "data": {
            "text/html": [
              "<div>\n",
              "<style scoped>\n",
              "    .dataframe tbody tr th:only-of-type {\n",
              "        vertical-align: middle;\n",
              "    }\n",
              "\n",
              "    .dataframe tbody tr th {\n",
              "        vertical-align: top;\n",
              "    }\n",
              "\n",
              "    .dataframe thead th {\n",
              "        text-align: right;\n",
              "    }\n",
              "</style>\n",
              "<table border=\"1\" class=\"dataframe\">\n",
              "  <thead>\n",
              "    <tr style=\"text-align: right;\">\n",
              "      <th></th>\n",
              "      <th>appid</th>\n",
              "      <th>name</th>\n",
              "      <th>release_date</th>\n",
              "      <th>english</th>\n",
              "      <th>developer</th>\n",
              "      <th>publisher</th>\n",
              "      <th>platforms</th>\n",
              "      <th>required_age</th>\n",
              "      <th>categories</th>\n",
              "      <th>genres</th>\n",
              "      <th>steamspy_tags</th>\n",
              "      <th>achievements</th>\n",
              "      <th>positive_ratings</th>\n",
              "      <th>negative_ratings</th>\n",
              "      <th>average_playtime</th>\n",
              "      <th>median_playtime</th>\n",
              "      <th>owners</th>\n",
              "      <th>price</th>\n",
              "    </tr>\n",
              "  </thead>\n",
              "  <tbody>\n",
              "    <tr>\n",
              "      <th>0</th>\n",
              "      <td>10</td>\n",
              "      <td>Counter-Strike</td>\n",
              "      <td>2000-11-01</td>\n",
              "      <td>1</td>\n",
              "      <td>Valve</td>\n",
              "      <td>Valve</td>\n",
              "      <td>windows;mac;linux</td>\n",
              "      <td>0</td>\n",
              "      <td>Multi-player;Online Multi-Player;Local Multi-P...</td>\n",
              "      <td>Action</td>\n",
              "      <td>Action;FPS;Multiplayer</td>\n",
              "      <td>0</td>\n",
              "      <td>124534</td>\n",
              "      <td>3339</td>\n",
              "      <td>17612</td>\n",
              "      <td>317</td>\n",
              "      <td>10000000-20000000</td>\n",
              "      <td>7.19</td>\n",
              "    </tr>\n",
              "    <tr>\n",
              "      <th>1</th>\n",
              "      <td>20</td>\n",
              "      <td>Team Fortress Classic</td>\n",
              "      <td>1999-04-01</td>\n",
              "      <td>1</td>\n",
              "      <td>Valve</td>\n",
              "      <td>Valve</td>\n",
              "      <td>windows;mac;linux</td>\n",
              "      <td>0</td>\n",
              "      <td>Multi-player;Online Multi-Player;Local Multi-P...</td>\n",
              "      <td>Action</td>\n",
              "      <td>Action;FPS;Multiplayer</td>\n",
              "      <td>0</td>\n",
              "      <td>3318</td>\n",
              "      <td>633</td>\n",
              "      <td>277</td>\n",
              "      <td>62</td>\n",
              "      <td>5000000-10000000</td>\n",
              "      <td>3.99</td>\n",
              "    </tr>\n",
              "    <tr>\n",
              "      <th>2</th>\n",
              "      <td>30</td>\n",
              "      <td>Day of Defeat</td>\n",
              "      <td>2003-05-01</td>\n",
              "      <td>1</td>\n",
              "      <td>Valve</td>\n",
              "      <td>Valve</td>\n",
              "      <td>windows;mac;linux</td>\n",
              "      <td>0</td>\n",
              "      <td>Multi-player;Valve Anti-Cheat enabled</td>\n",
              "      <td>Action</td>\n",
              "      <td>FPS;World War II;Multiplayer</td>\n",
              "      <td>0</td>\n",
              "      <td>3416</td>\n",
              "      <td>398</td>\n",
              "      <td>187</td>\n",
              "      <td>34</td>\n",
              "      <td>5000000-10000000</td>\n",
              "      <td>3.99</td>\n",
              "    </tr>\n",
              "    <tr>\n",
              "      <th>3</th>\n",
              "      <td>40</td>\n",
              "      <td>Deathmatch Classic</td>\n",
              "      <td>2001-06-01</td>\n",
              "      <td>1</td>\n",
              "      <td>Valve</td>\n",
              "      <td>Valve</td>\n",
              "      <td>windows;mac;linux</td>\n",
              "      <td>0</td>\n",
              "      <td>Multi-player;Online Multi-Player;Local Multi-P...</td>\n",
              "      <td>Action</td>\n",
              "      <td>Action;FPS;Multiplayer</td>\n",
              "      <td>0</td>\n",
              "      <td>1273</td>\n",
              "      <td>267</td>\n",
              "      <td>258</td>\n",
              "      <td>184</td>\n",
              "      <td>5000000-10000000</td>\n",
              "      <td>3.99</td>\n",
              "    </tr>\n",
              "    <tr>\n",
              "      <th>4</th>\n",
              "      <td>50</td>\n",
              "      <td>Half-Life: Opposing Force</td>\n",
              "      <td>1999-11-01</td>\n",
              "      <td>1</td>\n",
              "      <td>Gearbox Software</td>\n",
              "      <td>Valve</td>\n",
              "      <td>windows;mac;linux</td>\n",
              "      <td>0</td>\n",
              "      <td>Single-player;Multi-player;Valve Anti-Cheat en...</td>\n",
              "      <td>Action</td>\n",
              "      <td>FPS;Action;Sci-fi</td>\n",
              "      <td>0</td>\n",
              "      <td>5250</td>\n",
              "      <td>288</td>\n",
              "      <td>624</td>\n",
              "      <td>415</td>\n",
              "      <td>5000000-10000000</td>\n",
              "      <td>3.99</td>\n",
              "    </tr>\n",
              "  </tbody>\n",
              "</table>\n",
              "</div>"
            ],
            "text/plain": [
              "   appid                       name  ...             owners  price\n",
              "0     10             Counter-Strike  ...  10000000-20000000   7.19\n",
              "1     20      Team Fortress Classic  ...   5000000-10000000   3.99\n",
              "2     30              Day of Defeat  ...   5000000-10000000   3.99\n",
              "3     40         Deathmatch Classic  ...   5000000-10000000   3.99\n",
              "4     50  Half-Life: Opposing Force  ...   5000000-10000000   3.99\n",
              "\n",
              "[5 rows x 18 columns]"
            ]
          },
          "metadata": {
            "tags": []
          },
          "execution_count": 4
        }
      ]
    },
    {
      "cell_type": "code",
      "metadata": {
        "id": "0Qn7UY3RIrUg",
        "colab_type": "code",
        "colab": {
          "base_uri": "https://localhost:8080/",
          "height": 297
        },
        "outputId": "552d24c9-7453-4ce9-a9bf-0383ac06dd93"
      },
      "source": [
        "df.describe()"
      ],
      "execution_count": 5,
      "outputs": [
        {
          "output_type": "execute_result",
          "data": {
            "text/html": [
              "<div>\n",
              "<style scoped>\n",
              "    .dataframe tbody tr th:only-of-type {\n",
              "        vertical-align: middle;\n",
              "    }\n",
              "\n",
              "    .dataframe tbody tr th {\n",
              "        vertical-align: top;\n",
              "    }\n",
              "\n",
              "    .dataframe thead th {\n",
              "        text-align: right;\n",
              "    }\n",
              "</style>\n",
              "<table border=\"1\" class=\"dataframe\">\n",
              "  <thead>\n",
              "    <tr style=\"text-align: right;\">\n",
              "      <th></th>\n",
              "      <th>appid</th>\n",
              "      <th>english</th>\n",
              "      <th>required_age</th>\n",
              "      <th>achievements</th>\n",
              "      <th>positive_ratings</th>\n",
              "      <th>negative_ratings</th>\n",
              "      <th>average_playtime</th>\n",
              "      <th>median_playtime</th>\n",
              "      <th>price</th>\n",
              "    </tr>\n",
              "  </thead>\n",
              "  <tbody>\n",
              "    <tr>\n",
              "      <th>count</th>\n",
              "      <td>2.707500e+04</td>\n",
              "      <td>27075.000000</td>\n",
              "      <td>27075.000000</td>\n",
              "      <td>27075.000000</td>\n",
              "      <td>2.707500e+04</td>\n",
              "      <td>27075.000000</td>\n",
              "      <td>27075.000000</td>\n",
              "      <td>27075.00000</td>\n",
              "      <td>27075.000000</td>\n",
              "    </tr>\n",
              "    <tr>\n",
              "      <th>mean</th>\n",
              "      <td>5.962035e+05</td>\n",
              "      <td>0.981127</td>\n",
              "      <td>0.354903</td>\n",
              "      <td>45.248864</td>\n",
              "      <td>1.000559e+03</td>\n",
              "      <td>211.027147</td>\n",
              "      <td>149.804949</td>\n",
              "      <td>146.05603</td>\n",
              "      <td>6.078193</td>\n",
              "    </tr>\n",
              "    <tr>\n",
              "      <th>std</th>\n",
              "      <td>2.508942e+05</td>\n",
              "      <td>0.136081</td>\n",
              "      <td>2.406044</td>\n",
              "      <td>352.670281</td>\n",
              "      <td>1.898872e+04</td>\n",
              "      <td>4284.938531</td>\n",
              "      <td>1827.038141</td>\n",
              "      <td>2353.88008</td>\n",
              "      <td>7.874922</td>\n",
              "    </tr>\n",
              "    <tr>\n",
              "      <th>min</th>\n",
              "      <td>1.000000e+01</td>\n",
              "      <td>0.000000</td>\n",
              "      <td>0.000000</td>\n",
              "      <td>0.000000</td>\n",
              "      <td>0.000000e+00</td>\n",
              "      <td>0.000000</td>\n",
              "      <td>0.000000</td>\n",
              "      <td>0.00000</td>\n",
              "      <td>0.000000</td>\n",
              "    </tr>\n",
              "    <tr>\n",
              "      <th>25%</th>\n",
              "      <td>4.012300e+05</td>\n",
              "      <td>1.000000</td>\n",
              "      <td>0.000000</td>\n",
              "      <td>0.000000</td>\n",
              "      <td>6.000000e+00</td>\n",
              "      <td>2.000000</td>\n",
              "      <td>0.000000</td>\n",
              "      <td>0.00000</td>\n",
              "      <td>1.690000</td>\n",
              "    </tr>\n",
              "    <tr>\n",
              "      <th>50%</th>\n",
              "      <td>5.990700e+05</td>\n",
              "      <td>1.000000</td>\n",
              "      <td>0.000000</td>\n",
              "      <td>7.000000</td>\n",
              "      <td>2.400000e+01</td>\n",
              "      <td>9.000000</td>\n",
              "      <td>0.000000</td>\n",
              "      <td>0.00000</td>\n",
              "      <td>3.990000</td>\n",
              "    </tr>\n",
              "    <tr>\n",
              "      <th>75%</th>\n",
              "      <td>7.987600e+05</td>\n",
              "      <td>1.000000</td>\n",
              "      <td>0.000000</td>\n",
              "      <td>23.000000</td>\n",
              "      <td>1.260000e+02</td>\n",
              "      <td>42.000000</td>\n",
              "      <td>0.000000</td>\n",
              "      <td>0.00000</td>\n",
              "      <td>7.190000</td>\n",
              "    </tr>\n",
              "    <tr>\n",
              "      <th>max</th>\n",
              "      <td>1.069460e+06</td>\n",
              "      <td>1.000000</td>\n",
              "      <td>18.000000</td>\n",
              "      <td>9821.000000</td>\n",
              "      <td>2.644404e+06</td>\n",
              "      <td>487076.000000</td>\n",
              "      <td>190625.000000</td>\n",
              "      <td>190625.00000</td>\n",
              "      <td>421.990000</td>\n",
              "    </tr>\n",
              "  </tbody>\n",
              "</table>\n",
              "</div>"
            ],
            "text/plain": [
              "              appid       english  ...  median_playtime         price\n",
              "count  2.707500e+04  27075.000000  ...      27075.00000  27075.000000\n",
              "mean   5.962035e+05      0.981127  ...        146.05603      6.078193\n",
              "std    2.508942e+05      0.136081  ...       2353.88008      7.874922\n",
              "min    1.000000e+01      0.000000  ...          0.00000      0.000000\n",
              "25%    4.012300e+05      1.000000  ...          0.00000      1.690000\n",
              "50%    5.990700e+05      1.000000  ...          0.00000      3.990000\n",
              "75%    7.987600e+05      1.000000  ...          0.00000      7.190000\n",
              "max    1.069460e+06      1.000000  ...     190625.00000    421.990000\n",
              "\n",
              "[8 rows x 9 columns]"
            ]
          },
          "metadata": {
            "tags": []
          },
          "execution_count": 5
        }
      ]
    },
    {
      "cell_type": "code",
      "metadata": {
        "id": "kfJTC1zkkets",
        "colab_type": "code",
        "colab": {
          "base_uri": "https://localhost:8080/",
          "height": 328
        },
        "outputId": "aa077350-3e80-4260-8372-560907d15e2f"
      },
      "source": [
        "df.corr()"
      ],
      "execution_count": 6,
      "outputs": [
        {
          "output_type": "execute_result",
          "data": {
            "text/html": [
              "<div>\n",
              "<style scoped>\n",
              "    .dataframe tbody tr th:only-of-type {\n",
              "        vertical-align: middle;\n",
              "    }\n",
              "\n",
              "    .dataframe tbody tr th {\n",
              "        vertical-align: top;\n",
              "    }\n",
              "\n",
              "    .dataframe thead th {\n",
              "        text-align: right;\n",
              "    }\n",
              "</style>\n",
              "<table border=\"1\" class=\"dataframe\">\n",
              "  <thead>\n",
              "    <tr style=\"text-align: right;\">\n",
              "      <th></th>\n",
              "      <th>appid</th>\n",
              "      <th>english</th>\n",
              "      <th>required_age</th>\n",
              "      <th>achievements</th>\n",
              "      <th>positive_ratings</th>\n",
              "      <th>negative_ratings</th>\n",
              "      <th>average_playtime</th>\n",
              "      <th>median_playtime</th>\n",
              "      <th>price</th>\n",
              "    </tr>\n",
              "  </thead>\n",
              "  <tbody>\n",
              "    <tr>\n",
              "      <th>appid</th>\n",
              "      <td>1.000000</td>\n",
              "      <td>-0.116878</td>\n",
              "      <td>-0.087740</td>\n",
              "      <td>0.040510</td>\n",
              "      <td>-0.070888</td>\n",
              "      <td>-0.052198</td>\n",
              "      <td>-0.070236</td>\n",
              "      <td>-0.048308</td>\n",
              "      <td>-0.152112</td>\n",
              "    </tr>\n",
              "    <tr>\n",
              "      <th>english</th>\n",
              "      <td>-0.116878</td>\n",
              "      <td>1.000000</td>\n",
              "      <td>0.002860</td>\n",
              "      <td>0.014121</td>\n",
              "      <td>0.006001</td>\n",
              "      <td>0.005705</td>\n",
              "      <td>0.000338</td>\n",
              "      <td>-0.003416</td>\n",
              "      <td>0.007716</td>\n",
              "    </tr>\n",
              "    <tr>\n",
              "      <th>required_age</th>\n",
              "      <td>-0.087740</td>\n",
              "      <td>0.002860</td>\n",
              "      <td>1.000000</td>\n",
              "      <td>-0.005459</td>\n",
              "      <td>0.060418</td>\n",
              "      <td>0.057599</td>\n",
              "      <td>0.034423</td>\n",
              "      <td>0.014748</td>\n",
              "      <td>0.120358</td>\n",
              "    </tr>\n",
              "    <tr>\n",
              "      <th>achievements</th>\n",
              "      <td>0.040510</td>\n",
              "      <td>0.014121</td>\n",
              "      <td>-0.005459</td>\n",
              "      <td>1.000000</td>\n",
              "      <td>0.006058</td>\n",
              "      <td>0.003578</td>\n",
              "      <td>0.014175</td>\n",
              "      <td>0.009957</td>\n",
              "      <td>-0.007996</td>\n",
              "    </tr>\n",
              "    <tr>\n",
              "      <th>positive_ratings</th>\n",
              "      <td>-0.070888</td>\n",
              "      <td>0.006001</td>\n",
              "      <td>0.060418</td>\n",
              "      <td>0.006058</td>\n",
              "      <td>1.000000</td>\n",
              "      <td>0.762804</td>\n",
              "      <td>0.157898</td>\n",
              "      <td>0.035776</td>\n",
              "      <td>0.036110</td>\n",
              "    </tr>\n",
              "    <tr>\n",
              "      <th>negative_ratings</th>\n",
              "      <td>-0.052198</td>\n",
              "      <td>0.005705</td>\n",
              "      <td>0.057599</td>\n",
              "      <td>0.003578</td>\n",
              "      <td>0.762804</td>\n",
              "      <td>1.000000</td>\n",
              "      <td>0.161140</td>\n",
              "      <td>0.047887</td>\n",
              "      <td>0.051259</td>\n",
              "    </tr>\n",
              "    <tr>\n",
              "      <th>average_playtime</th>\n",
              "      <td>-0.070236</td>\n",
              "      <td>0.000338</td>\n",
              "      <td>0.034423</td>\n",
              "      <td>0.014175</td>\n",
              "      <td>0.157898</td>\n",
              "      <td>0.161140</td>\n",
              "      <td>1.000000</td>\n",
              "      <td>0.914900</td>\n",
              "      <td>0.049242</td>\n",
              "    </tr>\n",
              "    <tr>\n",
              "      <th>median_playtime</th>\n",
              "      <td>-0.048308</td>\n",
              "      <td>-0.003416</td>\n",
              "      <td>0.014748</td>\n",
              "      <td>0.009957</td>\n",
              "      <td>0.035776</td>\n",
              "      <td>0.047887</td>\n",
              "      <td>0.914900</td>\n",
              "      <td>1.000000</td>\n",
              "      <td>0.036610</td>\n",
              "    </tr>\n",
              "    <tr>\n",
              "      <th>price</th>\n",
              "      <td>-0.152112</td>\n",
              "      <td>0.007716</td>\n",
              "      <td>0.120358</td>\n",
              "      <td>-0.007996</td>\n",
              "      <td>0.036110</td>\n",
              "      <td>0.051259</td>\n",
              "      <td>0.049242</td>\n",
              "      <td>0.036610</td>\n",
              "      <td>1.000000</td>\n",
              "    </tr>\n",
              "  </tbody>\n",
              "</table>\n",
              "</div>"
            ],
            "text/plain": [
              "                     appid   english  ...  median_playtime     price\n",
              "appid             1.000000 -0.116878  ...        -0.048308 -0.152112\n",
              "english          -0.116878  1.000000  ...        -0.003416  0.007716\n",
              "required_age     -0.087740  0.002860  ...         0.014748  0.120358\n",
              "achievements      0.040510  0.014121  ...         0.009957 -0.007996\n",
              "positive_ratings -0.070888  0.006001  ...         0.035776  0.036110\n",
              "negative_ratings -0.052198  0.005705  ...         0.047887  0.051259\n",
              "average_playtime -0.070236  0.000338  ...         0.914900  0.049242\n",
              "median_playtime  -0.048308 -0.003416  ...         1.000000  0.036610\n",
              "price            -0.152112  0.007716  ...         0.036610  1.000000\n",
              "\n",
              "[9 rows x 9 columns]"
            ]
          },
          "metadata": {
            "tags": []
          },
          "execution_count": 6
        }
      ]
    },
    {
      "cell_type": "code",
      "metadata": {
        "id": "Ah-IXW7XIrU0",
        "colab_type": "code",
        "colab": {
          "base_uri": "https://localhost:8080/",
          "height": 892
        },
        "outputId": "ef40e7f4-98d4-4d33-c9b6-6b147ff55f65"
      },
      "source": [
        "df.hist(bins=50, figsize=(20,15))\n",
        "plt.show()"
      ],
      "execution_count": 7,
      "outputs": [
        {
          "output_type": "display_data",
          "data": {
            "image/png": "[encoded data removed]",
            "text/plain": [
              "<Figure size 1440x1080 with 9 Axes>"
            ]
          },
          "metadata": {
            "tags": [],
            "needs_background": "light"
          }
        }
      ]
    },
    {
      "cell_type": "markdown",
      "metadata": {
        "id": "_m7mDtAvKUxl",
        "colab_type": "text"
      },
      "source": [
        "Numa análise preliminar, podemos verificar que o dataset conta com algumas variáveis que precisam de tratamento e outras inúteis. O interessante aqui é que as variáveis são bastante concentradas em alguns valores (`price`, por exemplo) e outras são categóricas apesar de seu conteúdo serem números (`english`, por exemplo). Além disso, os histogramas não mostram muitas informações relevantes, pois existem outliers (poucos números com valores muito altos)."
      ]
    },
    {
      "cell_type": "markdown",
      "metadata": {
        "id": "ZxHuUJpoPoAd",
        "colab_type": "text"
      },
      "source": [
        "Na célula a seguir, é possível verificar a similaridade das colunas `categories, genres e steamspy_tags`. As três procuram definir melhor o tipo de jogo e serão explicadas mais para frente quando formos preparar o dataset para uso. Precisamos transformar essas características em features para o nosso modelo.\n",
        "\n",
        "Observando as colunas `developer` e `publisher`, constatamos que podemos ter diversos Developers e Publishers diferentes para um mesmo jogo, então também precisamos transformá-los em features para o nosso modelo. Essa operação será explicada mais adiante.\n",
        "\n",
        "A coluna `platforms` tem apenas uma combinação de `windows`, `mac` ou `linux` como possíveis valores.\n",
        "\n",
        "Todas as *features*  citadas aqui são categóricas e serão terão que passar por uma espécie de *encoder* para entrar no modelo. Isso transformará, cada categoria delas em uma *feature* própria valendo 0 ou 1 de acordo com sua presença no jogo."
      ]
    },
    {
      "cell_type": "code",
      "metadata": {
        "id": "swnEO1tTMYHP",
        "colab_type": "code",
        "colab": {
          "base_uri": "https://localhost:8080/",
          "height": 530
        },
        "outputId": "0c6f41f5-aa82-41ad-e18a-67f9dc914331"
      },
      "source": [
        "pd.concat([df.iloc[23:26], df.iloc[149:151]])"
      ],
      "execution_count": 8,
      "outputs": [
        {
          "output_type": "execute_result",
          "data": {
            "text/html": [
              "<div>\n",
              "<style scoped>\n",
              "    .dataframe tbody tr th:only-of-type {\n",
              "        vertical-align: middle;\n",
              "    }\n",
              "\n",
              "    .dataframe tbody tr th {\n",
              "        vertical-align: top;\n",
              "    }\n",
              "\n",
              "    .dataframe thead th {\n",
              "        text-align: right;\n",
              "    }\n",
              "</style>\n",
              "<table border=\"1\" class=\"dataframe\">\n",
              "  <thead>\n",
              "    <tr style=\"text-align: right;\">\n",
              "      <th></th>\n",
              "      <th>appid</th>\n",
              "      <th>name</th>\n",
              "      <th>release_date</th>\n",
              "      <th>english</th>\n",
              "      <th>developer</th>\n",
              "      <th>publisher</th>\n",
              "      <th>platforms</th>\n",
              "      <th>required_age</th>\n",
              "      <th>categories</th>\n",
              "      <th>genres</th>\n",
              "      <th>steamspy_tags</th>\n",
              "      <th>achievements</th>\n",
              "      <th>positive_ratings</th>\n",
              "      <th>negative_ratings</th>\n",
              "      <th>average_playtime</th>\n",
              "      <th>median_playtime</th>\n",
              "      <th>owners</th>\n",
              "      <th>price</th>\n",
              "    </tr>\n",
              "  </thead>\n",
              "  <tbody>\n",
              "    <tr>\n",
              "      <th>23</th>\n",
              "      <td>620</td>\n",
              "      <td>Portal 2</td>\n",
              "      <td>2011-04-18</td>\n",
              "      <td>1</td>\n",
              "      <td>Valve</td>\n",
              "      <td>Valve</td>\n",
              "      <td>windows;mac;linux</td>\n",
              "      <td>0</td>\n",
              "      <td>Single-player;Co-op;Steam Achievements;Full co...</td>\n",
              "      <td>Action;Adventure</td>\n",
              "      <td>Puzzle;Co-op;First-Person</td>\n",
              "      <td>51</td>\n",
              "      <td>138220</td>\n",
              "      <td>1891</td>\n",
              "      <td>1102</td>\n",
              "      <td>520</td>\n",
              "      <td>10000000-20000000</td>\n",
              "      <td>7.19</td>\n",
              "    </tr>\n",
              "    <tr>\n",
              "      <th>24</th>\n",
              "      <td>630</td>\n",
              "      <td>Alien Swarm</td>\n",
              "      <td>2010-07-19</td>\n",
              "      <td>1</td>\n",
              "      <td>Valve</td>\n",
              "      <td>Valve</td>\n",
              "      <td>windows</td>\n",
              "      <td>0</td>\n",
              "      <td>Single-player;Multi-player;Co-op;Steam Achieve...</td>\n",
              "      <td>Action</td>\n",
              "      <td>Free to Play;Co-op;Action</td>\n",
              "      <td>66</td>\n",
              "      <td>17435</td>\n",
              "      <td>941</td>\n",
              "      <td>371</td>\n",
              "      <td>83</td>\n",
              "      <td>2000000-5000000</td>\n",
              "      <td>0.00</td>\n",
              "    </tr>\n",
              "    <tr>\n",
              "      <th>25</th>\n",
              "      <td>730</td>\n",
              "      <td>Counter-Strike: Global Offensive</td>\n",
              "      <td>2012-08-21</td>\n",
              "      <td>1</td>\n",
              "      <td>Valve;Hidden Path Entertainment</td>\n",
              "      <td>Valve</td>\n",
              "      <td>windows;mac;linux</td>\n",
              "      <td>0</td>\n",
              "      <td>Multi-player;Steam Achievements;Full controlle...</td>\n",
              "      <td>Action;Free to Play</td>\n",
              "      <td>FPS;Multiplayer;Shooter</td>\n",
              "      <td>167</td>\n",
              "      <td>2644404</td>\n",
              "      <td>402313</td>\n",
              "      <td>22494</td>\n",
              "      <td>6502</td>\n",
              "      <td>50000000-100000000</td>\n",
              "      <td>0.00</td>\n",
              "    </tr>\n",
              "    <tr>\n",
              "      <th>149</th>\n",
              "      <td>6020</td>\n",
              "      <td>STAR WARS™ Jedi Knight - Jedi Academy™</td>\n",
              "      <td>2009-09-16</td>\n",
              "      <td>1</td>\n",
              "      <td>Raven Software;Aspyr (Mac)</td>\n",
              "      <td>LucasArts;Aspyr (Mac);Lucasfilm;Disney Interac...</td>\n",
              "      <td>windows;mac</td>\n",
              "      <td>0</td>\n",
              "      <td>Single-player;Online Multi-Player;Local Multi-...</td>\n",
              "      <td>Action</td>\n",
              "      <td>Star Wars;Action;Sci-fi</td>\n",
              "      <td>0</td>\n",
              "      <td>5684</td>\n",
              "      <td>330</td>\n",
              "      <td>1254</td>\n",
              "      <td>174</td>\n",
              "      <td>1000000-2000000</td>\n",
              "      <td>7.19</td>\n",
              "    </tr>\n",
              "    <tr>\n",
              "      <th>150</th>\n",
              "      <td>6030</td>\n",
              "      <td>STAR WARS™ Jedi Knight II - Jedi Outcast™</td>\n",
              "      <td>2009-09-16</td>\n",
              "      <td>1</td>\n",
              "      <td>Raven Software;Aspyr (Mac)</td>\n",
              "      <td>LucasArts;Aspyr (Mac);Lucasfilm;Disney Interac...</td>\n",
              "      <td>windows;mac</td>\n",
              "      <td>0</td>\n",
              "      <td>Single-player;Online Multi-Player;Local Multi-...</td>\n",
              "      <td>Action</td>\n",
              "      <td>Star Wars;Action;Classic</td>\n",
              "      <td>0</td>\n",
              "      <td>2020</td>\n",
              "      <td>219</td>\n",
              "      <td>127</td>\n",
              "      <td>180</td>\n",
              "      <td>1000000-2000000</td>\n",
              "      <td>7.19</td>\n",
              "    </tr>\n",
              "  </tbody>\n",
              "</table>\n",
              "</div>"
            ],
            "text/plain": [
              "     appid  ... price\n",
              "23     620  ...  7.19\n",
              "24     630  ...  0.00\n",
              "25     730  ...  0.00\n",
              "149   6020  ...  7.19\n",
              "150   6030  ...  7.19\n",
              "\n",
              "[5 rows x 18 columns]"
            ]
          },
          "metadata": {
            "tags": []
          },
          "execution_count": 8
        }
      ]
    },
    {
      "cell_type": "markdown",
      "metadata": {
        "id": "794KvCe30_3A",
        "colab_type": "text"
      },
      "source": [
        "# Preparando o Dataset\n",
        "\n",
        "Após analisar o dataset sem realizar modificações, vamos tratá-lo, adicionando algumas colunas importantes para o treinamento e removendo outras que são irrelevantes. A primeira que vamos adicionar é a `positive_rate` que representa a porcentagem de avaliações positivas nos jogos. Utilizaremos essa métrica como variável dependente do nosso projeto, pois queremos descobrir como ela interage com as outras e prever ela de acordo com as outras. Essa métrica é comum na loja da Steam para indicar jogos bem avaliados pelos jogadores.\n",
        "\n",
        "<figure>\n",
        "  <center>\n",
        "  <a href=\"https://i.imgur.com/WcyTDHw.png?1\">\n",
        "  <img src=\"https://i.imgur.com/WcyTDHw.png?1\" alt=\"CSGO Positive Reviews Jun 09 - 2020\" height=\"200\" />\n",
        "  </a>\n",
        "  <figcaption>Página da loja da Steam com as avaliações do jogo Counter-Strike: Global Offensive - Clique para aumentar</figcaption>\n",
        "  </center>\n",
        "</figure>\n",
        "\n",
        "Além disso, como verificado, as colunas `categories, genres e steamspy_tags` são similares. A coluna `categories` indica filtros utilizados pela loja da Steam para agrupar certos jogos, com categorias específicas e genéricas ao mesmo tempo, muitas vezes tendo valores irrelevantes ou valores que não são comuns a todos os dados. A coluna `genres` possui uma definição do tipo do jogo mais clara, porém mais generalista (ex: Ação). Por fim, a coluna `steamspy_tags` contém rotulagens (tags) feitas por usuários no site SteamSpy. Os usuários votam nas tags que melhor representam cada jogo, assim, quanto mais votos, melhor associada a tag é com o jogo. Com isso, podemos apurar melhor o tipo de jogo, contendo informações comuns a todos os jogos e abrangentes o suficiente para definir melhor tipo. Assim, podemos descartar `categories` e manter as outras duas colunas para nosso projeto.\n",
        "\n",
        "\n"
      ]
    },
    {
      "cell_type": "code",
      "metadata": {
        "id": "hAxzfJoLIEjh",
        "colab_type": "code",
        "colab": {
          "base_uri": "https://localhost:8080/",
          "height": 102
        },
        "outputId": "f95e7786-eb0b-4ad3-a94f-127798239917"
      },
      "source": [
        "df.columns"
      ],
      "execution_count": 9,
      "outputs": [
        {
          "output_type": "execute_result",
          "data": {
            "text/plain": [
              "Index(['appid', 'name', 'release_date', 'english', 'developer', 'publisher',\n",
              "       'platforms', 'required_age', 'categories', 'genres', 'steamspy_tags',\n",
              "       'achievements', 'positive_ratings', 'negative_ratings',\n",
              "       'average_playtime', 'median_playtime', 'owners', 'price'],\n",
              "      dtype='object')"
            ]
          },
          "metadata": {
            "tags": []
          },
          "execution_count": 9
        }
      ]
    },
    {
      "cell_type": "code",
      "metadata": {
        "id": "OFTDruvHVZ41",
        "colab_type": "code",
        "colab": {
          "base_uri": "https://localhost:8080/",
          "height": 119
        },
        "outputId": "414ec62a-d1ee-4692-c526-8747a00d807d"
      },
      "source": [
        "df['positive_rate'] = df['positive_ratings'] / (df['positive_ratings']+df['negative_ratings'])\n",
        "df['positive_rate'].head(n=5)"
      ],
      "execution_count": 10,
      "outputs": [
        {
          "output_type": "execute_result",
          "data": {
            "text/plain": [
              "0    0.973888\n",
              "1    0.839787\n",
              "2    0.895648\n",
              "3    0.826623\n",
              "4    0.947996\n",
              "Name: positive_rate, dtype: float64"
            ]
          },
          "metadata": {
            "tags": []
          },
          "execution_count": 10
        }
      ]
    },
    {
      "cell_type": "code",
      "metadata": {
        "id": "2jpbuyFHQRY4",
        "colab_type": "code",
        "colab": {}
      },
      "source": [
        "# platforms\n",
        "\n",
        "# df_platforms = df['platforms'].str.get_dummies(';')\n",
        "# df_platforms = df_platforms.add_prefix('platform_')\n",
        "# df_platforms.head(n=1)"
      ],
      "execution_count": 11,
      "outputs": []
    },
    {
      "cell_type": "code",
      "metadata": {
        "id": "GW51gVI-QgEY",
        "colab_type": "code",
        "colab": {}
      },
      "source": [
        "# steamspy_tags\n",
        "\n",
        "# df_steamspy_tags = df['steamspy_tags'].str.get_dummies(';')\n",
        "# df_steamspy_tags = df_steamspy_tags.add_prefix('tags_')\n",
        "# df_steamspy_tags.head(n=1)"
      ],
      "execution_count": 12,
      "outputs": []
    },
    {
      "cell_type": "code",
      "metadata": {
        "id": "WgrOihM2QwlY",
        "colab_type": "code",
        "colab": {}
      },
      "source": [
        "# genres\n",
        "\n",
        "# df_genres = df['genres'].str.get_dummies(';')\n",
        "# df_genres = df_genres.add_prefix('genres_')\n",
        "# df_genres.head(n=1)"
      ],
      "execution_count": 13,
      "outputs": []
    },
    {
      "cell_type": "code",
      "metadata": {
        "id": "Hthq5W7HQ2_Y",
        "colab_type": "code",
        "colab": {}
      },
      "source": [
        "# owners\n",
        "\n",
        "# df_owners = df['owners'].str.get_dummies(';')\n",
        "# df_owners = df_owners.add_prefix('owners_')\n",
        "# df_owners.head(n=1)"
      ],
      "execution_count": 14,
      "outputs": []
    },
    {
      "cell_type": "markdown",
      "metadata": {
        "id": "qsYvS-w4RgGF",
        "colab_type": "text"
      },
      "source": [
        "### `publisher & developer`\n",
        "\n",
        "Existe um problema aqui, a quantidade de publishers e developers diferentes é tão grande que inviabiliza a criação de uma coluna para cada.\n",
        "Ademais, a maioria deles só estão ligados a um jogo. \n",
        "Para resolver isso, os nomes dos publishers e developers que tem somente um jogo foram substituidos por \"Outros\".\n",
        "\n",
        "Com isso, utilizamos a função get_dummies do pandas para transformar essas duas colunas em diversas colunas de features. Cada publisher & developer individualmente se torna uma nova coluna com valor 0 ou 1 para indicar sua presença no jogo.\n",
        "\n",
        "Isso torna-se uma limitação do nosso modelo, mas foi a maneira achada para usar essa variavel categórica, visto que aumentamos o número de features drasticamente."
      ]
    },
    {
      "cell_type": "code",
      "metadata": {
        "id": "YCQh48hoQ5VN",
        "colab_type": "code",
        "colab": {}
      },
      "source": [
        "pub_counts = Counter([v.strip() for x in df['publisher'] for v in x.strip().split(';')])\n",
        "pub_list = sorted(((v, k) for k, v in pub_counts.items()), reverse=True)"
      ],
      "execution_count": 15,
      "outputs": []
    },
    {
      "cell_type": "code",
      "metadata": {
        "id": "-OMfjoXsRt5T",
        "colab_type": "code",
        "colab": {}
      },
      "source": [
        "dev_counts = Counter([v.strip() for x in df['developer'] for v in x.strip().split(';')])\n",
        "dev_list = sorted(((v, k) for k, v in dev_counts.items()), reverse=True)"
      ],
      "execution_count": 16,
      "outputs": []
    },
    {
      "cell_type": "code",
      "metadata": {
        "id": "wenB-AEaRVea",
        "colab_type": "code",
        "colab": {
          "base_uri": "https://localhost:8080/",
          "height": 102
        },
        "outputId": "982a4eb4-1a7f-475e-cea1-e88e9e1153fd"
      },
      "source": [
        "one_game_pubs = []\n",
        "one_game_devs = []\n",
        "for i in range(len(pub_list)):\n",
        "  if pub_list[i][0] == 1:\n",
        "    one_game_pubs.append(pub_list[i][1])\n",
        "\n",
        "for i in range(len(dev_list)):\n",
        "  if dev_list[i][0] == 1:\n",
        "    one_game_devs.append(dev_list[i][1])\n",
        "                         \n",
        "print(f\"Número total de publishers diferentes: {len(pub_list)}\")\n",
        "print(f\"Quantidade deles que estão ligados a somente um jogo: {len(one_game_pubs)}\")\n",
        "print()\n",
        "\n",
        "print(f\"Número total de developers diferentes: {len(dev_list)}\")\n",
        "print(f\"Quantidade deles que estão ligados a somente um jogo: {len(one_game_devs)}\")"
      ],
      "execution_count": 17,
      "outputs": [
        {
          "output_type": "stream",
          "text": [
            "Número total de publishers diferentes: 14238\n",
            "Quantidade deles que estão ligados a somente um jogo: 10840\n",
            "\n",
            "Número total de developers diferentes: 17952\n",
            "Quantidade deles que estão ligados a somente um jogo: 13671\n"
          ],
          "name": "stdout"
        }
      ]
    },
    {
      "cell_type": "code",
      "metadata": {
        "id": "SgwDMvs3RWVf",
        "colab_type": "code",
        "colab": {}
      },
      "source": [
        "def replace_one_game_pubs(s):\n",
        "  \"\"\"\n",
        "  Função que recebe a string de publishers e devolve mascarando os que tem somente um jogo,\n",
        "  chamando-os de 'outros'\n",
        "\n",
        "  args: string da célula da coluna Publishers\n",
        "  output: string 'mascarada'\n",
        "  \"\"\"\n",
        "  \n",
        "  game_pub_list = [v.strip() for v in s.strip().split(';')]\n",
        "  for i, pub in enumerate(game_pub_list):\n",
        "    if pub in one_game_pubs:\n",
        "      game_pub_list[i] = 'others'\n",
        "  \n",
        "  game_pub_set = set(game_pub_list)\n",
        "\n",
        "  new_s = \"\"\n",
        "\n",
        "  for e in game_pub_set:\n",
        "    new_s += e\n",
        "    new_s += \";\"\n",
        "  new_s = new_s[:-1]\n",
        "\n",
        "  return new_s\n",
        "\n",
        "def replace_one_game_devs(s):\n",
        "  \"\"\"\n",
        "  Função que recebe a string de developers e devolve mascarando os que tem somente um jogo,\n",
        "  chamando-os de 'outros'\n",
        "\n",
        "  args: string da célula da coluna Developer\n",
        "  output: string 'mascarada'\n",
        "  \"\"\"\n",
        "  game_dev_list = [v.strip() for v in s.strip().split(';')]\n",
        "  for i, dev in enumerate(game_dev_list):\n",
        "    if dev in one_game_devs:\n",
        "      game_dev_list[i] = 'others'\n",
        "  \n",
        "  game_dev_set = set(game_dev_list)\n",
        "\n",
        "  new_s = \"\"\n",
        "\n",
        "  for e in game_dev_set:\n",
        "    new_s += e\n",
        "    new_s += \";\"\n",
        "  new_s = new_s[:-1]\n",
        "\n",
        "  return new_s"
      ],
      "execution_count": 18,
      "outputs": []
    },
    {
      "cell_type": "code",
      "metadata": {
        "id": "qKBDz_C0RYjn",
        "colab_type": "code",
        "colab": {}
      },
      "source": [
        "# Aplicando a função acima a todas as colunas do dataframe\n",
        "df['publisher'] = df['publisher'].apply(lambda x: replace_one_game_pubs(x))\n",
        "\n",
        "# Aplicando a função acima a todas as colunas do dataframe\n",
        "df['developer'] = df['developer'].apply(lambda x: replace_one_game_devs(x))"
      ],
      "execution_count": 19,
      "outputs": []
    },
    {
      "cell_type": "code",
      "metadata": {
        "id": "P4mQE8LYRarW",
        "colab_type": "code",
        "colab": {}
      },
      "source": [
        "# Agora sim, cria-se um dataframe com uma coluna por publisher\n",
        "# df_publisher = df['publisher'].str.get_dummies(';')\n",
        "# df_publisher = df_publisher.add_prefix('pub_')\n",
        "# df_publisher.head()\n",
        "\n",
        "# df_developer = df['developer'].str.get_dummies(';')\n",
        "# df_developer = df_developer.add_prefix('dev_')\n",
        "# df_developer.head()"
      ],
      "execution_count": 20,
      "outputs": []
    },
    {
      "cell_type": "markdown",
      "metadata": {
        "id": "VBYId14-SYl1",
        "colab_type": "text"
      },
      "source": [
        "Com todos os dataframes de variáveis tratados, basta concatená-los ao dataframe original, removendo as colunas dessas categorias. Além disso, foram removidas as outras categorias irrelevantes para o treinamento:\n",
        "- `positive_ratings & negative_ratings`: já foram usados para estabelecer o `positive_rate` \n",
        "- `appid`: apenas um identificador, é irrelevante.\n",
        "- `name` e `release_date`: irrelevantes para o treinamento do modelo\n",
        "- `platform, publishers, developers, steamspy_tags, owners, required_age`: todas transformadas com o get_dummies, sem necessidade de mantê-los.\n",
        "\n",
        "Uma observação importante é que para cada dummy das categorias utilizadas, adicionamos um prefixo (referente a *feature* original de onde pertencia essa categoria) para facilitar a identificação no momento da análise."
      ]
    },
    {
      "cell_type": "markdown",
      "metadata": {
        "id": "9xIH7KfCoSvx",
        "colab_type": "text"
      },
      "source": [
        "### Dataset tratado"
      ]
    },
    {
      "cell_type": "code",
      "metadata": {
        "id": "4a9a-aI7STJ4",
        "colab_type": "code",
        "colab": {}
      },
      "source": [
        "# df = pd.concat([df, df_platforms, df_steamspy_tags, df_genres, df_publisher,df_developer, df_owners], axis=1).drop(columns=['name', 'release_date', 'appid', 'developer', 'publisher', 'platforms', 'categories', 'genres', 'steamspy_tags', 'positive_ratings', 'negative_ratings', 'owners'])\n",
        "# tudo que foi comentado nas células acima está na linha abaixo, para evitar a criação de vários DataFrames e o consumo exessivo de RAM"
      ],
      "execution_count": 21,
      "outputs": []
    },
    {
      "cell_type": "code",
      "metadata": {
        "id": "1ORvVEzbhb5K",
        "colab_type": "code",
        "colab": {}
      },
      "source": [
        "df = pd.concat([df, df['platforms'].str.get_dummies(';').add_prefix('platform_'), df['steamspy_tags'].str.get_dummies(';').add_prefix('tags_'), df['genres'].str.get_dummies(';').add_prefix('genres_'), df['publisher'].str.get_dummies(';').add_prefix('pub_'), df['developer'].str.get_dummies(';').add_prefix('dev_'), df['owners'].str.get_dummies(';').add_prefix('owners_'), df['required_age'].apply(str).str.get_dummies(';').add_prefix('age_')], axis=1).drop(columns=['name', 'release_date', 'appid', 'developer', 'publisher', 'platforms', 'categories', 'genres', 'steamspy_tags', 'positive_ratings', 'negative_ratings', 'owners', 'required_age'])"
      ],
      "execution_count": 22,
      "outputs": []
    },
    {
      "cell_type": "code",
      "metadata": {
        "id": "AJTV-FWbQJ6K",
        "colab_type": "code",
        "colab": {
          "base_uri": "https://localhost:8080/",
          "height": 102
        },
        "outputId": "d55456fa-533f-43c2-c207-af04fa7bf0b3"
      },
      "source": [
        "df.info()"
      ],
      "execution_count": 23,
      "outputs": [
        {
          "output_type": "stream",
          "text": [
            "<class 'pandas.core.frame.DataFrame'>\n",
            "RangeIndex: 27075 entries, 0 to 27074\n",
            "Columns: 8076 entries, english to age_7\n",
            "dtypes: float64(2), int64(8074)\n",
            "memory usage: 1.6 GB\n"
          ],
          "name": "stdout"
        }
      ]
    },
    {
      "cell_type": "code",
      "metadata": {
        "id": "Lw5HvZUGg7By",
        "colab_type": "code",
        "colab": {}
      },
      "source": [
        "df.to_csv('worked_df.csv')"
      ],
      "execution_count": 24,
      "outputs": []
    },
    {
      "cell_type": "code",
      "metadata": {
        "id": "wo2zEG36lq1f",
        "colab_type": "code",
        "colab": {}
      },
      "source": [
        "df = pd.read_csv('worked_df.csv', index_col=[0])"
      ],
      "execution_count": 25,
      "outputs": []
    },
    {
      "cell_type": "code",
      "metadata": {
        "id": "EbaSw2RFentt",
        "colab_type": "code",
        "colab": {
          "base_uri": "https://localhost:8080/",
          "height": 355
        },
        "outputId": "cd9894e9-b0a7-4fa6-e252-684ba65acbcb"
      },
      "source": [
        "df.head(5)"
      ],
      "execution_count": 26,
      "outputs": [
        {
          "output_type": "execute_result",
          "data": {
            "text/html": [
              "<div>\n",
              "<style scoped>\n",
              "    .dataframe tbody tr th:only-of-type {\n",
              "        vertical-align: middle;\n",
              "    }\n",
              "\n",
              "    .dataframe tbody tr th {\n",
              "        vertical-align: top;\n",
              "    }\n",
              "\n",
              "    .dataframe thead th {\n",
              "        text-align: right;\n",
              "    }\n",
              "</style>\n",
              "<table border=\"1\" class=\"dataframe\">\n",
              "  <thead>\n",
              "    <tr style=\"text-align: right;\">\n",
              "      <th></th>\n",
              "      <th>english</th>\n",
              "      <th>achievements</th>\n",
              "      <th>average_playtime</th>\n",
              "      <th>median_playtime</th>\n",
              "      <th>price</th>\n",
              "      <th>positive_rate</th>\n",
              "      <th>platform_linux</th>\n",
              "      <th>platform_mac</th>\n",
              "      <th>platform_windows</th>\n",
              "      <th>tags_1980s</th>\n",
              "      <th>tags_1990's</th>\n",
              "      <th>tags_2.5D</th>\n",
              "      <th>tags_2D</th>\n",
              "      <th>tags_2D Fighter</th>\n",
              "      <th>tags_360 Video</th>\n",
              "      <th>tags_3D</th>\n",
              "      <th>tags_3D Platformer</th>\n",
              "      <th>tags_3D Vision</th>\n",
              "      <th>tags_4 Player Local</th>\n",
              "      <th>tags_4X</th>\n",
              "      <th>tags_6DOF</th>\n",
              "      <th>tags_Abstract</th>\n",
              "      <th>tags_Action</th>\n",
              "      <th>tags_Action RPG</th>\n",
              "      <th>tags_Action-Adventure</th>\n",
              "      <th>tags_Adventure</th>\n",
              "      <th>tags_Agriculture</th>\n",
              "      <th>tags_Aliens</th>\n",
              "      <th>tags_Alternate History</th>\n",
              "      <th>tags_America</th>\n",
              "      <th>tags_Animation &amp; Modeling</th>\n",
              "      <th>tags_Anime</th>\n",
              "      <th>tags_Arcade</th>\n",
              "      <th>tags_Arena Shooter</th>\n",
              "      <th>tags_Assassin</th>\n",
              "      <th>tags_Atmospheric</th>\n",
              "      <th>tags_Audio Production</th>\n",
              "      <th>tags_BMX</th>\n",
              "      <th>tags_Base-Building</th>\n",
              "      <th>tags_Baseball</th>\n",
              "      <th>...</th>\n",
              "      <th>dev_吃了就睡工作室</th>\n",
              "      <th>dev_哈视奇科技</th>\n",
              "      <th>dev_大好网</th>\n",
              "      <th>dev_威震天科技</th>\n",
              "      <th>dev_小戴的奴隶们</th>\n",
              "      <th>dev_木子工坊</th>\n",
              "      <th>dev_朵游社</th>\n",
              "      <th>dev_梵天游戏</th>\n",
              "      <th>dev_橘喵喵</th>\n",
              "      <th>dev_橘子班</th>\n",
              "      <th>dev_橙光游戏</th>\n",
              "      <th>dev_灰烬天国</th>\n",
              "      <th>dev_热泉 RedSpring</th>\n",
              "      <th>dev_甲山林娛樂股份有限公司</th>\n",
              "      <th>dev_疯王子</th>\n",
              "      <th>dev_绚丽奈落</th>\n",
              "      <th>dev_自由愉悦小黄猫(Free pleasure little yellow cat)</th>\n",
              "      <th>dev_致意</th>\n",
              "      <th>dev_迷茫的菜鸟</th>\n",
              "      <th>dev_阿达游戏</th>\n",
              "      <th>dev_黄昏フロンティア</th>\n",
              "      <th>owners_0-20000</th>\n",
              "      <th>owners_100000-200000</th>\n",
              "      <th>owners_1000000-2000000</th>\n",
              "      <th>owners_10000000-20000000</th>\n",
              "      <th>owners_100000000-200000000</th>\n",
              "      <th>owners_20000-50000</th>\n",
              "      <th>owners_200000-500000</th>\n",
              "      <th>owners_2000000-5000000</th>\n",
              "      <th>owners_20000000-50000000</th>\n",
              "      <th>owners_50000-100000</th>\n",
              "      <th>owners_500000-1000000</th>\n",
              "      <th>owners_5000000-10000000</th>\n",
              "      <th>owners_50000000-100000000</th>\n",
              "      <th>age_0</th>\n",
              "      <th>age_12</th>\n",
              "      <th>age_16</th>\n",
              "      <th>age_18</th>\n",
              "      <th>age_3</th>\n",
              "      <th>age_7</th>\n",
              "    </tr>\n",
              "  </thead>\n",
              "  <tbody>\n",
              "    <tr>\n",
              "      <th>0</th>\n",
              "      <td>1</td>\n",
              "      <td>0</td>\n",
              "      <td>17612</td>\n",
              "      <td>317</td>\n",
              "      <td>7.19</td>\n",
              "      <td>0.973888</td>\n",
              "      <td>1</td>\n",
              "      <td>1</td>\n",
              "      <td>1</td>\n",
              "      <td>0</td>\n",
              "      <td>0</td>\n",
              "      <td>0</td>\n",
              "      <td>0</td>\n",
              "      <td>0</td>\n",
              "      <td>0</td>\n",
              "      <td>0</td>\n",
              "      <td>0</td>\n",
              "      <td>0</td>\n",
              "      <td>0</td>\n",
              "      <td>0</td>\n",
              "      <td>0</td>\n",
              "      <td>0</td>\n",
              "      <td>1</td>\n",
              "      <td>0</td>\n",
              "      <td>0</td>\n",
              "      <td>0</td>\n",
              "      <td>0</td>\n",
              "      <td>0</td>\n",
              "      <td>0</td>\n",
              "      <td>0</td>\n",
              "      <td>0</td>\n",
              "      <td>0</td>\n",
              "      <td>0</td>\n",
              "      <td>0</td>\n",
              "      <td>0</td>\n",
              "      <td>0</td>\n",
              "      <td>0</td>\n",
              "      <td>0</td>\n",
              "      <td>0</td>\n",
              "      <td>0</td>\n",
              "      <td>...</td>\n",
              "      <td>0</td>\n",
              "      <td>0</td>\n",
              "      <td>0</td>\n",
              "      <td>0</td>\n",
              "      <td>0</td>\n",
              "      <td>0</td>\n",
              "      <td>0</td>\n",
              "      <td>0</td>\n",
              "      <td>0</td>\n",
              "      <td>0</td>\n",
              "      <td>0</td>\n",
              "      <td>0</td>\n",
              "      <td>0</td>\n",
              "      <td>0</td>\n",
              "      <td>0</td>\n",
              "      <td>0</td>\n",
              "      <td>0</td>\n",
              "      <td>0</td>\n",
              "      <td>0</td>\n",
              "      <td>0</td>\n",
              "      <td>0</td>\n",
              "      <td>0</td>\n",
              "      <td>0</td>\n",
              "      <td>0</td>\n",
              "      <td>1</td>\n",
              "      <td>0</td>\n",
              "      <td>0</td>\n",
              "      <td>0</td>\n",
              "      <td>0</td>\n",
              "      <td>0</td>\n",
              "      <td>0</td>\n",
              "      <td>0</td>\n",
              "      <td>0</td>\n",
              "      <td>0</td>\n",
              "      <td>1</td>\n",
              "      <td>0</td>\n",
              "      <td>0</td>\n",
              "      <td>0</td>\n",
              "      <td>0</td>\n",
              "      <td>0</td>\n",
              "    </tr>\n",
              "    <tr>\n",
              "      <th>1</th>\n",
              "      <td>1</td>\n",
              "      <td>0</td>\n",
              "      <td>277</td>\n",
              "      <td>62</td>\n",
              "      <td>3.99</td>\n",
              "      <td>0.839787</td>\n",
              "      <td>1</td>\n",
              "      <td>1</td>\n",
              "      <td>1</td>\n",
              "      <td>0</td>\n",
              "      <td>0</td>\n",
              "      <td>0</td>\n",
              "      <td>0</td>\n",
              "      <td>0</td>\n",
              "      <td>0</td>\n",
              "      <td>0</td>\n",
              "      <td>0</td>\n",
              "      <td>0</td>\n",
              "      <td>0</td>\n",
              "      <td>0</td>\n",
              "      <td>0</td>\n",
              "      <td>0</td>\n",
              "      <td>1</td>\n",
              "      <td>0</td>\n",
              "      <td>0</td>\n",
              "      <td>0</td>\n",
              "      <td>0</td>\n",
              "      <td>0</td>\n",
              "      <td>0</td>\n",
              "      <td>0</td>\n",
              "      <td>0</td>\n",
              "      <td>0</td>\n",
              "      <td>0</td>\n",
              "      <td>0</td>\n",
              "      <td>0</td>\n",
              "      <td>0</td>\n",
              "      <td>0</td>\n",
              "      <td>0</td>\n",
              "      <td>0</td>\n",
              "      <td>0</td>\n",
              "      <td>...</td>\n",
              "      <td>0</td>\n",
              "      <td>0</td>\n",
              "      <td>0</td>\n",
              "      <td>0</td>\n",
              "      <td>0</td>\n",
              "      <td>0</td>\n",
              "      <td>0</td>\n",
              "      <td>0</td>\n",
              "      <td>0</td>\n",
              "      <td>0</td>\n",
              "      <td>0</td>\n",
              "      <td>0</td>\n",
              "      <td>0</td>\n",
              "      <td>0</td>\n",
              "      <td>0</td>\n",
              "      <td>0</td>\n",
              "      <td>0</td>\n",
              "      <td>0</td>\n",
              "      <td>0</td>\n",
              "      <td>0</td>\n",
              "      <td>0</td>\n",
              "      <td>0</td>\n",
              "      <td>0</td>\n",
              "      <td>0</td>\n",
              "      <td>0</td>\n",
              "      <td>0</td>\n",
              "      <td>0</td>\n",
              "      <td>0</td>\n",
              "      <td>0</td>\n",
              "      <td>0</td>\n",
              "      <td>0</td>\n",
              "      <td>0</td>\n",
              "      <td>1</td>\n",
              "      <td>0</td>\n",
              "      <td>1</td>\n",
              "      <td>0</td>\n",
              "      <td>0</td>\n",
              "      <td>0</td>\n",
              "      <td>0</td>\n",
              "      <td>0</td>\n",
              "    </tr>\n",
              "    <tr>\n",
              "      <th>2</th>\n",
              "      <td>1</td>\n",
              "      <td>0</td>\n",
              "      <td>187</td>\n",
              "      <td>34</td>\n",
              "      <td>3.99</td>\n",
              "      <td>0.895648</td>\n",
              "      <td>1</td>\n",
              "      <td>1</td>\n",
              "      <td>1</td>\n",
              "      <td>0</td>\n",
              "      <td>0</td>\n",
              "      <td>0</td>\n",
              "      <td>0</td>\n",
              "      <td>0</td>\n",
              "      <td>0</td>\n",
              "      <td>0</td>\n",
              "      <td>0</td>\n",
              "      <td>0</td>\n",
              "      <td>0</td>\n",
              "      <td>0</td>\n",
              "      <td>0</td>\n",
              "      <td>0</td>\n",
              "      <td>0</td>\n",
              "      <td>0</td>\n",
              "      <td>0</td>\n",
              "      <td>0</td>\n",
              "      <td>0</td>\n",
              "      <td>0</td>\n",
              "      <td>0</td>\n",
              "      <td>0</td>\n",
              "      <td>0</td>\n",
              "      <td>0</td>\n",
              "      <td>0</td>\n",
              "      <td>0</td>\n",
              "      <td>0</td>\n",
              "      <td>0</td>\n",
              "      <td>0</td>\n",
              "      <td>0</td>\n",
              "      <td>0</td>\n",
              "      <td>0</td>\n",
              "      <td>...</td>\n",
              "      <td>0</td>\n",
              "      <td>0</td>\n",
              "      <td>0</td>\n",
              "      <td>0</td>\n",
              "      <td>0</td>\n",
              "      <td>0</td>\n",
              "      <td>0</td>\n",
              "      <td>0</td>\n",
              "      <td>0</td>\n",
              "      <td>0</td>\n",
              "      <td>0</td>\n",
              "      <td>0</td>\n",
              "      <td>0</td>\n",
              "      <td>0</td>\n",
              "      <td>0</td>\n",
              "      <td>0</td>\n",
              "      <td>0</td>\n",
              "      <td>0</td>\n",
              "      <td>0</td>\n",
              "      <td>0</td>\n",
              "      <td>0</td>\n",
              "      <td>0</td>\n",
              "      <td>0</td>\n",
              "      <td>0</td>\n",
              "      <td>0</td>\n",
              "      <td>0</td>\n",
              "      <td>0</td>\n",
              "      <td>0</td>\n",
              "      <td>0</td>\n",
              "      <td>0</td>\n",
              "      <td>0</td>\n",
              "      <td>0</td>\n",
              "      <td>1</td>\n",
              "      <td>0</td>\n",
              "      <td>1</td>\n",
              "      <td>0</td>\n",
              "      <td>0</td>\n",
              "      <td>0</td>\n",
              "      <td>0</td>\n",
              "      <td>0</td>\n",
              "    </tr>\n",
              "    <tr>\n",
              "      <th>3</th>\n",
              "      <td>1</td>\n",
              "      <td>0</td>\n",
              "      <td>258</td>\n",
              "      <td>184</td>\n",
              "      <td>3.99</td>\n",
              "      <td>0.826623</td>\n",
              "      <td>1</td>\n",
              "      <td>1</td>\n",
              "      <td>1</td>\n",
              "      <td>0</td>\n",
              "      <td>0</td>\n",
              "      <td>0</td>\n",
              "      <td>0</td>\n",
              "      <td>0</td>\n",
              "      <td>0</td>\n",
              "      <td>0</td>\n",
              "      <td>0</td>\n",
              "      <td>0</td>\n",
              "      <td>0</td>\n",
              "      <td>0</td>\n",
              "      <td>0</td>\n",
              "      <td>0</td>\n",
              "      <td>1</td>\n",
              "      <td>0</td>\n",
              "      <td>0</td>\n",
              "      <td>0</td>\n",
              "      <td>0</td>\n",
              "      <td>0</td>\n",
              "      <td>0</td>\n",
              "      <td>0</td>\n",
              "      <td>0</td>\n",
              "      <td>0</td>\n",
              "      <td>0</td>\n",
              "      <td>0</td>\n",
              "      <td>0</td>\n",
              "      <td>0</td>\n",
              "      <td>0</td>\n",
              "      <td>0</td>\n",
              "      <td>0</td>\n",
              "      <td>0</td>\n",
              "      <td>...</td>\n",
              "      <td>0</td>\n",
              "      <td>0</td>\n",
              "      <td>0</td>\n",
              "      <td>0</td>\n",
              "      <td>0</td>\n",
              "      <td>0</td>\n",
              "      <td>0</td>\n",
              "      <td>0</td>\n",
              "      <td>0</td>\n",
              "      <td>0</td>\n",
              "      <td>0</td>\n",
              "      <td>0</td>\n",
              "      <td>0</td>\n",
              "      <td>0</td>\n",
              "      <td>0</td>\n",
              "      <td>0</td>\n",
              "      <td>0</td>\n",
              "      <td>0</td>\n",
              "      <td>0</td>\n",
              "      <td>0</td>\n",
              "      <td>0</td>\n",
              "      <td>0</td>\n",
              "      <td>0</td>\n",
              "      <td>0</td>\n",
              "      <td>0</td>\n",
              "      <td>0</td>\n",
              "      <td>0</td>\n",
              "      <td>0</td>\n",
              "      <td>0</td>\n",
              "      <td>0</td>\n",
              "      <td>0</td>\n",
              "      <td>0</td>\n",
              "      <td>1</td>\n",
              "      <td>0</td>\n",
              "      <td>1</td>\n",
              "      <td>0</td>\n",
              "      <td>0</td>\n",
              "      <td>0</td>\n",
              "      <td>0</td>\n",
              "      <td>0</td>\n",
              "    </tr>\n",
              "    <tr>\n",
              "      <th>4</th>\n",
              "      <td>1</td>\n",
              "      <td>0</td>\n",
              "      <td>624</td>\n",
              "      <td>415</td>\n",
              "      <td>3.99</td>\n",
              "      <td>0.947996</td>\n",
              "      <td>1</td>\n",
              "      <td>1</td>\n",
              "      <td>1</td>\n",
              "      <td>0</td>\n",
              "      <td>0</td>\n",
              "      <td>0</td>\n",
              "      <td>0</td>\n",
              "      <td>0</td>\n",
              "      <td>0</td>\n",
              "      <td>0</td>\n",
              "      <td>0</td>\n",
              "      <td>0</td>\n",
              "      <td>0</td>\n",
              "      <td>0</td>\n",
              "      <td>0</td>\n",
              "      <td>0</td>\n",
              "      <td>1</td>\n",
              "      <td>0</td>\n",
              "      <td>0</td>\n",
              "      <td>0</td>\n",
              "      <td>0</td>\n",
              "      <td>0</td>\n",
              "      <td>0</td>\n",
              "      <td>0</td>\n",
              "      <td>0</td>\n",
              "      <td>0</td>\n",
              "      <td>0</td>\n",
              "      <td>0</td>\n",
              "      <td>0</td>\n",
              "      <td>0</td>\n",
              "      <td>0</td>\n",
              "      <td>0</td>\n",
              "      <td>0</td>\n",
              "      <td>0</td>\n",
              "      <td>...</td>\n",
              "      <td>0</td>\n",
              "      <td>0</td>\n",
              "      <td>0</td>\n",
              "      <td>0</td>\n",
              "      <td>0</td>\n",
              "      <td>0</td>\n",
              "      <td>0</td>\n",
              "      <td>0</td>\n",
              "      <td>0</td>\n",
              "      <td>0</td>\n",
              "      <td>0</td>\n",
              "      <td>0</td>\n",
              "      <td>0</td>\n",
              "      <td>0</td>\n",
              "      <td>0</td>\n",
              "      <td>0</td>\n",
              "      <td>0</td>\n",
              "      <td>0</td>\n",
              "      <td>0</td>\n",
              "      <td>0</td>\n",
              "      <td>0</td>\n",
              "      <td>0</td>\n",
              "      <td>0</td>\n",
              "      <td>0</td>\n",
              "      <td>0</td>\n",
              "      <td>0</td>\n",
              "      <td>0</td>\n",
              "      <td>0</td>\n",
              "      <td>0</td>\n",
              "      <td>0</td>\n",
              "      <td>0</td>\n",
              "      <td>0</td>\n",
              "      <td>1</td>\n",
              "      <td>0</td>\n",
              "      <td>1</td>\n",
              "      <td>0</td>\n",
              "      <td>0</td>\n",
              "      <td>0</td>\n",
              "      <td>0</td>\n",
              "      <td>0</td>\n",
              "    </tr>\n",
              "  </tbody>\n",
              "</table>\n",
              "<p>5 rows × 8076 columns</p>\n",
              "</div>"
            ],
            "text/plain": [
              "   english  achievements  average_playtime  ...  age_18  age_3  age_7\n",
              "0        1             0             17612  ...       0      0      0\n",
              "1        1             0               277  ...       0      0      0\n",
              "2        1             0               187  ...       0      0      0\n",
              "3        1             0               258  ...       0      0      0\n",
              "4        1             0               624  ...       0      0      0\n",
              "\n",
              "[5 rows x 8076 columns]"
            ]
          },
          "metadata": {
            "tags": []
          },
          "execution_count": 26
        }
      ]
    },
    {
      "cell_type": "markdown",
      "metadata": {
        "id": "NMET3i9DohXJ",
        "colab_type": "text"
      },
      "source": [
        "Agora temos um dataset totalmente tratado, com as variáveis categóricas incorporadas e variáveis inúteis removidas. Está na hora de dividir os dados em treinamento e testes."
      ]
    },
    {
      "cell_type": "markdown",
      "metadata": {
        "id": "FKEMKB0lj0Ci",
        "colab_type": "text"
      },
      "source": [
        "\n",
        "\n",
        "\n",
        "\n",
        "# Dividindo os dados em conjunto de treinamento e de testes (estratificado)\n",
        "Para dividir os dados em treinamento e teste, precisamos fazer uma divisão estratificada deles. Ou seja, a proporção da variável dependente entre os sets de treinamento e teste devem ser parecidas.\n",
        "\n",
        "Para garantir isso, foi feita uma coluna nova no dataframe (rate_cat) que divide os jogos em 5 categorias, uma para cada quinto entre 0 e 100%. A divisão estratificada foi feita com base nessa nova categoria."
      ]
    },
    {
      "cell_type": "code",
      "metadata": {
        "id": "m42fcvIBSsMs",
        "colab_type": "code",
        "colab": {}
      },
      "source": [
        "# Constroi uma coluna nova com categorias de positive_negative_rate fictícias.\n",
        "df['rate_cat'] = np.round(df['positive_rate']*100 / 20)\n",
        "# housing['rate_cat'].where(housing['rate_cat'] < 5, 5.0, inplace=True)"
      ],
      "execution_count": 27,
      "outputs": []
    },
    {
      "cell_type": "code",
      "metadata": {
        "id": "hp5lwJT1GZeu",
        "colab_type": "code",
        "colab": {}
      },
      "source": [
        "# Divide, de modo estratificado, o conjunto de dados.\n",
        "from sklearn.model_selection import StratifiedShuffleSplit\n",
        "\n",
        "split = StratifiedShuffleSplit(n_splits=1, test_size=0.2, random_state=RANDOM_SEED)\n",
        "for train_index, test_index in split.split(df, df[\"rate_cat\"]):\n",
        "    strat_train_set = df.loc[train_index]\n",
        "    strat_test_set = df.loc[test_index]"
      ],
      "execution_count": 28,
      "outputs": []
    },
    {
      "cell_type": "code",
      "metadata": {
        "id": "lqzEwRcpGdoT",
        "colab_type": "code",
        "colab": {
          "base_uri": "https://localhost:8080/",
          "height": 136
        },
        "outputId": "1dc3a8d2-8202-4d06-d329-aa0316ec9d07"
      },
      "source": [
        "strat_train_set['rate_cat'].value_counts() / len(strat_train_set)"
      ],
      "execution_count": 29,
      "outputs": [
        {
          "output_type": "execute_result",
          "data": {
            "text/plain": [
              "4.0    0.366851\n",
              "5.0    0.235365\n",
              "3.0    0.207525\n",
              "2.0    0.130286\n",
              "1.0    0.033841\n",
              "0.0    0.026131\n",
              "Name: rate_cat, dtype: float64"
            ]
          },
          "metadata": {
            "tags": []
          },
          "execution_count": 29
        }
      ]
    },
    {
      "cell_type": "code",
      "metadata": {
        "id": "gUc2fhuFHubB",
        "colab_type": "code",
        "colab": {
          "base_uri": "https://localhost:8080/",
          "height": 136
        },
        "outputId": "e1191973-7bd5-4e07-d032-bf50ab57756c"
      },
      "source": [
        "strat_test_set['rate_cat'].value_counts() / len(strat_test_set)"
      ],
      "execution_count": 30,
      "outputs": [
        {
          "output_type": "execute_result",
          "data": {
            "text/plain": [
              "4.0    0.366759\n",
              "5.0    0.235272\n",
              "3.0    0.207572\n",
              "2.0    0.130379\n",
              "1.0    0.033795\n",
              "0.0    0.026223\n",
              "Name: rate_cat, dtype: float64"
            ]
          },
          "metadata": {
            "tags": []
          },
          "execution_count": 30
        }
      ]
    },
    {
      "cell_type": "code",
      "metadata": {
        "id": "iLwp0dUfH0vK",
        "colab_type": "code",
        "colab": {}
      },
      "source": [
        "# Remove a coluna nova, que foi adicionada apenas temporariamente.\n",
        "strat_train_set.drop(['rate_cat'], axis=1, inplace=True)\n",
        "strat_test_set.drop(['rate_cat'], axis=1, inplace=True)"
      ],
      "execution_count": 31,
      "outputs": []
    },
    {
      "cell_type": "code",
      "metadata": {
        "id": "tsAbptENLMcD",
        "colab_type": "code",
        "colab": {}
      },
      "source": [
        ""
      ],
      "execution_count": 31,
      "outputs": []
    },
    {
      "cell_type": "code",
      "metadata": {
        "id": "k08v3HxcJesz",
        "colab_type": "code",
        "colab": {
          "base_uri": "https://localhost:8080/",
          "height": 541
        },
        "outputId": "e0bd2096-2d2f-43a7-f3f0-e20b1cfff281"
      },
      "source": [
        "strat_test_set"
      ],
      "execution_count": 32,
      "outputs": [
        {
          "output_type": "execute_result",
          "data": {
            "text/html": [
              "<div>\n",
              "<style scoped>\n",
              "    .dataframe tbody tr th:only-of-type {\n",
              "        vertical-align: middle;\n",
              "    }\n",
              "\n",
              "    .dataframe tbody tr th {\n",
              "        vertical-align: top;\n",
              "    }\n",
              "\n",
              "    .dataframe thead th {\n",
              "        text-align: right;\n",
              "    }\n",
              "</style>\n",
              "<table border=\"1\" class=\"dataframe\">\n",
              "  <thead>\n",
              "    <tr style=\"text-align: right;\">\n",
              "      <th></th>\n",
              "      <th>english</th>\n",
              "      <th>achievements</th>\n",
              "      <th>average_playtime</th>\n",
              "      <th>median_playtime</th>\n",
              "      <th>price</th>\n",
              "      <th>positive_rate</th>\n",
              "      <th>platform_linux</th>\n",
              "      <th>platform_mac</th>\n",
              "      <th>platform_windows</th>\n",
              "      <th>tags_1980s</th>\n",
              "      <th>tags_1990's</th>\n",
              "      <th>tags_2.5D</th>\n",
              "      <th>tags_2D</th>\n",
              "      <th>tags_2D Fighter</th>\n",
              "      <th>tags_360 Video</th>\n",
              "      <th>tags_3D</th>\n",
              "      <th>tags_3D Platformer</th>\n",
              "      <th>tags_3D Vision</th>\n",
              "      <th>tags_4 Player Local</th>\n",
              "      <th>tags_4X</th>\n",
              "      <th>tags_6DOF</th>\n",
              "      <th>tags_Abstract</th>\n",
              "      <th>tags_Action</th>\n",
              "      <th>tags_Action RPG</th>\n",
              "      <th>tags_Action-Adventure</th>\n",
              "      <th>tags_Adventure</th>\n",
              "      <th>tags_Agriculture</th>\n",
              "      <th>tags_Aliens</th>\n",
              "      <th>tags_Alternate History</th>\n",
              "      <th>tags_America</th>\n",
              "      <th>tags_Animation &amp; Modeling</th>\n",
              "      <th>tags_Anime</th>\n",
              "      <th>tags_Arcade</th>\n",
              "      <th>tags_Arena Shooter</th>\n",
              "      <th>tags_Assassin</th>\n",
              "      <th>tags_Atmospheric</th>\n",
              "      <th>tags_Audio Production</th>\n",
              "      <th>tags_BMX</th>\n",
              "      <th>tags_Base-Building</th>\n",
              "      <th>tags_Baseball</th>\n",
              "      <th>...</th>\n",
              "      <th>dev_吃了就睡工作室</th>\n",
              "      <th>dev_哈视奇科技</th>\n",
              "      <th>dev_大好网</th>\n",
              "      <th>dev_威震天科技</th>\n",
              "      <th>dev_小戴的奴隶们</th>\n",
              "      <th>dev_木子工坊</th>\n",
              "      <th>dev_朵游社</th>\n",
              "      <th>dev_梵天游戏</th>\n",
              "      <th>dev_橘喵喵</th>\n",
              "      <th>dev_橘子班</th>\n",
              "      <th>dev_橙光游戏</th>\n",
              "      <th>dev_灰烬天国</th>\n",
              "      <th>dev_热泉 RedSpring</th>\n",
              "      <th>dev_甲山林娛樂股份有限公司</th>\n",
              "      <th>dev_疯王子</th>\n",
              "      <th>dev_绚丽奈落</th>\n",
              "      <th>dev_自由愉悦小黄猫(Free pleasure little yellow cat)</th>\n",
              "      <th>dev_致意</th>\n",
              "      <th>dev_迷茫的菜鸟</th>\n",
              "      <th>dev_阿达游戏</th>\n",
              "      <th>dev_黄昏フロンティア</th>\n",
              "      <th>owners_0-20000</th>\n",
              "      <th>owners_100000-200000</th>\n",
              "      <th>owners_1000000-2000000</th>\n",
              "      <th>owners_10000000-20000000</th>\n",
              "      <th>owners_100000000-200000000</th>\n",
              "      <th>owners_20000-50000</th>\n",
              "      <th>owners_200000-500000</th>\n",
              "      <th>owners_2000000-5000000</th>\n",
              "      <th>owners_20000000-50000000</th>\n",
              "      <th>owners_50000-100000</th>\n",
              "      <th>owners_500000-1000000</th>\n",
              "      <th>owners_5000000-10000000</th>\n",
              "      <th>owners_50000000-100000000</th>\n",
              "      <th>age_0</th>\n",
              "      <th>age_12</th>\n",
              "      <th>age_16</th>\n",
              "      <th>age_18</th>\n",
              "      <th>age_3</th>\n",
              "      <th>age_7</th>\n",
              "    </tr>\n",
              "  </thead>\n",
              "  <tbody>\n",
              "    <tr>\n",
              "      <th>4787</th>\n",
              "      <td>1</td>\n",
              "      <td>18</td>\n",
              "      <td>0</td>\n",
              "      <td>0</td>\n",
              "      <td>5.59</td>\n",
              "      <td>0.904762</td>\n",
              "      <td>0</td>\n",
              "      <td>0</td>\n",
              "      <td>1</td>\n",
              "      <td>0</td>\n",
              "      <td>0</td>\n",
              "      <td>0</td>\n",
              "      <td>0</td>\n",
              "      <td>0</td>\n",
              "      <td>0</td>\n",
              "      <td>0</td>\n",
              "      <td>0</td>\n",
              "      <td>0</td>\n",
              "      <td>0</td>\n",
              "      <td>0</td>\n",
              "      <td>0</td>\n",
              "      <td>0</td>\n",
              "      <td>0</td>\n",
              "      <td>0</td>\n",
              "      <td>0</td>\n",
              "      <td>1</td>\n",
              "      <td>0</td>\n",
              "      <td>0</td>\n",
              "      <td>0</td>\n",
              "      <td>0</td>\n",
              "      <td>0</td>\n",
              "      <td>0</td>\n",
              "      <td>0</td>\n",
              "      <td>0</td>\n",
              "      <td>0</td>\n",
              "      <td>0</td>\n",
              "      <td>0</td>\n",
              "      <td>0</td>\n",
              "      <td>0</td>\n",
              "      <td>0</td>\n",
              "      <td>...</td>\n",
              "      <td>0</td>\n",
              "      <td>0</td>\n",
              "      <td>0</td>\n",
              "      <td>0</td>\n",
              "      <td>0</td>\n",
              "      <td>0</td>\n",
              "      <td>0</td>\n",
              "      <td>0</td>\n",
              "      <td>0</td>\n",
              "      <td>0</td>\n",
              "      <td>0</td>\n",
              "      <td>0</td>\n",
              "      <td>0</td>\n",
              "      <td>0</td>\n",
              "      <td>0</td>\n",
              "      <td>0</td>\n",
              "      <td>0</td>\n",
              "      <td>0</td>\n",
              "      <td>0</td>\n",
              "      <td>0</td>\n",
              "      <td>0</td>\n",
              "      <td>1</td>\n",
              "      <td>0</td>\n",
              "      <td>0</td>\n",
              "      <td>0</td>\n",
              "      <td>0</td>\n",
              "      <td>0</td>\n",
              "      <td>0</td>\n",
              "      <td>0</td>\n",
              "      <td>0</td>\n",
              "      <td>0</td>\n",
              "      <td>0</td>\n",
              "      <td>0</td>\n",
              "      <td>0</td>\n",
              "      <td>1</td>\n",
              "      <td>0</td>\n",
              "      <td>0</td>\n",
              "      <td>0</td>\n",
              "      <td>0</td>\n",
              "      <td>0</td>\n",
              "    </tr>\n",
              "    <tr>\n",
              "      <th>15124</th>\n",
              "      <td>1</td>\n",
              "      <td>0</td>\n",
              "      <td>0</td>\n",
              "      <td>0</td>\n",
              "      <td>0.79</td>\n",
              "      <td>0.500000</td>\n",
              "      <td>0</td>\n",
              "      <td>0</td>\n",
              "      <td>1</td>\n",
              "      <td>0</td>\n",
              "      <td>0</td>\n",
              "      <td>0</td>\n",
              "      <td>0</td>\n",
              "      <td>0</td>\n",
              "      <td>0</td>\n",
              "      <td>0</td>\n",
              "      <td>0</td>\n",
              "      <td>0</td>\n",
              "      <td>0</td>\n",
              "      <td>0</td>\n",
              "      <td>0</td>\n",
              "      <td>0</td>\n",
              "      <td>1</td>\n",
              "      <td>0</td>\n",
              "      <td>0</td>\n",
              "      <td>1</td>\n",
              "      <td>0</td>\n",
              "      <td>0</td>\n",
              "      <td>0</td>\n",
              "      <td>0</td>\n",
              "      <td>0</td>\n",
              "      <td>0</td>\n",
              "      <td>0</td>\n",
              "      <td>0</td>\n",
              "      <td>0</td>\n",
              "      <td>0</td>\n",
              "      <td>0</td>\n",
              "      <td>0</td>\n",
              "      <td>0</td>\n",
              "      <td>0</td>\n",
              "      <td>...</td>\n",
              "      <td>0</td>\n",
              "      <td>0</td>\n",
              "      <td>0</td>\n",
              "      <td>0</td>\n",
              "      <td>0</td>\n",
              "      <td>0</td>\n",
              "      <td>0</td>\n",
              "      <td>0</td>\n",
              "      <td>0</td>\n",
              "      <td>0</td>\n",
              "      <td>0</td>\n",
              "      <td>0</td>\n",
              "      <td>0</td>\n",
              "      <td>0</td>\n",
              "      <td>0</td>\n",
              "      <td>0</td>\n",
              "      <td>0</td>\n",
              "      <td>0</td>\n",
              "      <td>0</td>\n",
              "      <td>0</td>\n",
              "      <td>0</td>\n",
              "      <td>1</td>\n",
              "      <td>0</td>\n",
              "      <td>0</td>\n",
              "      <td>0</td>\n",
              "      <td>0</td>\n",
              "      <td>0</td>\n",
              "      <td>0</td>\n",
              "      <td>0</td>\n",
              "      <td>0</td>\n",
              "      <td>0</td>\n",
              "      <td>0</td>\n",
              "      <td>0</td>\n",
              "      <td>0</td>\n",
              "      <td>1</td>\n",
              "      <td>0</td>\n",
              "      <td>0</td>\n",
              "      <td>0</td>\n",
              "      <td>0</td>\n",
              "      <td>0</td>\n",
              "    </tr>\n",
              "    <tr>\n",
              "      <th>9248</th>\n",
              "      <td>1</td>\n",
              "      <td>35</td>\n",
              "      <td>309</td>\n",
              "      <td>324</td>\n",
              "      <td>44.99</td>\n",
              "      <td>0.564729</td>\n",
              "      <td>0</td>\n",
              "      <td>0</td>\n",
              "      <td>1</td>\n",
              "      <td>0</td>\n",
              "      <td>0</td>\n",
              "      <td>0</td>\n",
              "      <td>0</td>\n",
              "      <td>0</td>\n",
              "      <td>0</td>\n",
              "      <td>0</td>\n",
              "      <td>0</td>\n",
              "      <td>0</td>\n",
              "      <td>0</td>\n",
              "      <td>0</td>\n",
              "      <td>0</td>\n",
              "      <td>0</td>\n",
              "      <td>0</td>\n",
              "      <td>0</td>\n",
              "      <td>0</td>\n",
              "      <td>0</td>\n",
              "      <td>0</td>\n",
              "      <td>0</td>\n",
              "      <td>0</td>\n",
              "      <td>0</td>\n",
              "      <td>0</td>\n",
              "      <td>0</td>\n",
              "      <td>0</td>\n",
              "      <td>0</td>\n",
              "      <td>0</td>\n",
              "      <td>0</td>\n",
              "      <td>0</td>\n",
              "      <td>0</td>\n",
              "      <td>0</td>\n",
              "      <td>0</td>\n",
              "      <td>...</td>\n",
              "      <td>0</td>\n",
              "      <td>0</td>\n",
              "      <td>0</td>\n",
              "      <td>0</td>\n",
              "      <td>0</td>\n",
              "      <td>0</td>\n",
              "      <td>0</td>\n",
              "      <td>0</td>\n",
              "      <td>0</td>\n",
              "      <td>0</td>\n",
              "      <td>0</td>\n",
              "      <td>0</td>\n",
              "      <td>0</td>\n",
              "      <td>0</td>\n",
              "      <td>0</td>\n",
              "      <td>0</td>\n",
              "      <td>0</td>\n",
              "      <td>0</td>\n",
              "      <td>0</td>\n",
              "      <td>0</td>\n",
              "      <td>0</td>\n",
              "      <td>0</td>\n",
              "      <td>0</td>\n",
              "      <td>0</td>\n",
              "      <td>0</td>\n",
              "      <td>0</td>\n",
              "      <td>0</td>\n",
              "      <td>0</td>\n",
              "      <td>0</td>\n",
              "      <td>0</td>\n",
              "      <td>0</td>\n",
              "      <td>1</td>\n",
              "      <td>0</td>\n",
              "      <td>0</td>\n",
              "      <td>0</td>\n",
              "      <td>0</td>\n",
              "      <td>0</td>\n",
              "      <td>1</td>\n",
              "      <td>0</td>\n",
              "      <td>0</td>\n",
              "    </tr>\n",
              "    <tr>\n",
              "      <th>15876</th>\n",
              "      <td>1</td>\n",
              "      <td>15</td>\n",
              "      <td>0</td>\n",
              "      <td>0</td>\n",
              "      <td>3.99</td>\n",
              "      <td>1.000000</td>\n",
              "      <td>0</td>\n",
              "      <td>0</td>\n",
              "      <td>1</td>\n",
              "      <td>0</td>\n",
              "      <td>0</td>\n",
              "      <td>0</td>\n",
              "      <td>0</td>\n",
              "      <td>0</td>\n",
              "      <td>0</td>\n",
              "      <td>0</td>\n",
              "      <td>0</td>\n",
              "      <td>0</td>\n",
              "      <td>0</td>\n",
              "      <td>0</td>\n",
              "      <td>0</td>\n",
              "      <td>0</td>\n",
              "      <td>1</td>\n",
              "      <td>0</td>\n",
              "      <td>0</td>\n",
              "      <td>1</td>\n",
              "      <td>0</td>\n",
              "      <td>0</td>\n",
              "      <td>0</td>\n",
              "      <td>0</td>\n",
              "      <td>0</td>\n",
              "      <td>0</td>\n",
              "      <td>0</td>\n",
              "      <td>0</td>\n",
              "      <td>0</td>\n",
              "      <td>0</td>\n",
              "      <td>0</td>\n",
              "      <td>0</td>\n",
              "      <td>0</td>\n",
              "      <td>0</td>\n",
              "      <td>...</td>\n",
              "      <td>0</td>\n",
              "      <td>0</td>\n",
              "      <td>0</td>\n",
              "      <td>0</td>\n",
              "      <td>0</td>\n",
              "      <td>0</td>\n",
              "      <td>0</td>\n",
              "      <td>0</td>\n",
              "      <td>0</td>\n",
              "      <td>0</td>\n",
              "      <td>0</td>\n",
              "      <td>0</td>\n",
              "      <td>0</td>\n",
              "      <td>0</td>\n",
              "      <td>0</td>\n",
              "      <td>0</td>\n",
              "      <td>0</td>\n",
              "      <td>0</td>\n",
              "      <td>0</td>\n",
              "      <td>0</td>\n",
              "      <td>0</td>\n",
              "      <td>1</td>\n",
              "      <td>0</td>\n",
              "      <td>0</td>\n",
              "      <td>0</td>\n",
              "      <td>0</td>\n",
              "      <td>0</td>\n",
              "      <td>0</td>\n",
              "      <td>0</td>\n",
              "      <td>0</td>\n",
              "      <td>0</td>\n",
              "      <td>0</td>\n",
              "      <td>0</td>\n",
              "      <td>0</td>\n",
              "      <td>1</td>\n",
              "      <td>0</td>\n",
              "      <td>0</td>\n",
              "      <td>0</td>\n",
              "      <td>0</td>\n",
              "      <td>0</td>\n",
              "    </tr>\n",
              "    <tr>\n",
              "      <th>4873</th>\n",
              "      <td>1</td>\n",
              "      <td>50</td>\n",
              "      <td>245</td>\n",
              "      <td>276</td>\n",
              "      <td>14.99</td>\n",
              "      <td>0.884898</td>\n",
              "      <td>0</td>\n",
              "      <td>0</td>\n",
              "      <td>1</td>\n",
              "      <td>0</td>\n",
              "      <td>0</td>\n",
              "      <td>0</td>\n",
              "      <td>0</td>\n",
              "      <td>0</td>\n",
              "      <td>0</td>\n",
              "      <td>0</td>\n",
              "      <td>0</td>\n",
              "      <td>0</td>\n",
              "      <td>0</td>\n",
              "      <td>0</td>\n",
              "      <td>0</td>\n",
              "      <td>0</td>\n",
              "      <td>1</td>\n",
              "      <td>0</td>\n",
              "      <td>0</td>\n",
              "      <td>0</td>\n",
              "      <td>0</td>\n",
              "      <td>0</td>\n",
              "      <td>0</td>\n",
              "      <td>0</td>\n",
              "      <td>0</td>\n",
              "      <td>0</td>\n",
              "      <td>0</td>\n",
              "      <td>0</td>\n",
              "      <td>0</td>\n",
              "      <td>0</td>\n",
              "      <td>0</td>\n",
              "      <td>0</td>\n",
              "      <td>0</td>\n",
              "      <td>0</td>\n",
              "      <td>...</td>\n",
              "      <td>0</td>\n",
              "      <td>0</td>\n",
              "      <td>0</td>\n",
              "      <td>0</td>\n",
              "      <td>0</td>\n",
              "      <td>0</td>\n",
              "      <td>0</td>\n",
              "      <td>0</td>\n",
              "      <td>0</td>\n",
              "      <td>0</td>\n",
              "      <td>0</td>\n",
              "      <td>0</td>\n",
              "      <td>0</td>\n",
              "      <td>0</td>\n",
              "      <td>0</td>\n",
              "      <td>0</td>\n",
              "      <td>0</td>\n",
              "      <td>0</td>\n",
              "      <td>0</td>\n",
              "      <td>0</td>\n",
              "      <td>0</td>\n",
              "      <td>0</td>\n",
              "      <td>0</td>\n",
              "      <td>0</td>\n",
              "      <td>0</td>\n",
              "      <td>0</td>\n",
              "      <td>0</td>\n",
              "      <td>0</td>\n",
              "      <td>0</td>\n",
              "      <td>0</td>\n",
              "      <td>0</td>\n",
              "      <td>1</td>\n",
              "      <td>0</td>\n",
              "      <td>0</td>\n",
              "      <td>0</td>\n",
              "      <td>0</td>\n",
              "      <td>0</td>\n",
              "      <td>1</td>\n",
              "      <td>0</td>\n",
              "      <td>0</td>\n",
              "    </tr>\n",
              "    <tr>\n",
              "      <th>...</th>\n",
              "      <td>...</td>\n",
              "      <td>...</td>\n",
              "      <td>...</td>\n",
              "      <td>...</td>\n",
              "      <td>...</td>\n",
              "      <td>...</td>\n",
              "      <td>...</td>\n",
              "      <td>...</td>\n",
              "      <td>...</td>\n",
              "      <td>...</td>\n",
              "      <td>...</td>\n",
              "      <td>...</td>\n",
              "      <td>...</td>\n",
              "      <td>...</td>\n",
              "      <td>...</td>\n",
              "      <td>...</td>\n",
              "      <td>...</td>\n",
              "      <td>...</td>\n",
              "      <td>...</td>\n",
              "      <td>...</td>\n",
              "      <td>...</td>\n",
              "      <td>...</td>\n",
              "      <td>...</td>\n",
              "      <td>...</td>\n",
              "      <td>...</td>\n",
              "      <td>...</td>\n",
              "      <td>...</td>\n",
              "      <td>...</td>\n",
              "      <td>...</td>\n",
              "      <td>...</td>\n",
              "      <td>...</td>\n",
              "      <td>...</td>\n",
              "      <td>...</td>\n",
              "      <td>...</td>\n",
              "      <td>...</td>\n",
              "      <td>...</td>\n",
              "      <td>...</td>\n",
              "      <td>...</td>\n",
              "      <td>...</td>\n",
              "      <td>...</td>\n",
              "      <td>...</td>\n",
              "      <td>...</td>\n",
              "      <td>...</td>\n",
              "      <td>...</td>\n",
              "      <td>...</td>\n",
              "      <td>...</td>\n",
              "      <td>...</td>\n",
              "      <td>...</td>\n",
              "      <td>...</td>\n",
              "      <td>...</td>\n",
              "      <td>...</td>\n",
              "      <td>...</td>\n",
              "      <td>...</td>\n",
              "      <td>...</td>\n",
              "      <td>...</td>\n",
              "      <td>...</td>\n",
              "      <td>...</td>\n",
              "      <td>...</td>\n",
              "      <td>...</td>\n",
              "      <td>...</td>\n",
              "      <td>...</td>\n",
              "      <td>...</td>\n",
              "      <td>...</td>\n",
              "      <td>...</td>\n",
              "      <td>...</td>\n",
              "      <td>...</td>\n",
              "      <td>...</td>\n",
              "      <td>...</td>\n",
              "      <td>...</td>\n",
              "      <td>...</td>\n",
              "      <td>...</td>\n",
              "      <td>...</td>\n",
              "      <td>...</td>\n",
              "      <td>...</td>\n",
              "      <td>...</td>\n",
              "      <td>...</td>\n",
              "      <td>...</td>\n",
              "      <td>...</td>\n",
              "      <td>...</td>\n",
              "      <td>...</td>\n",
              "      <td>...</td>\n",
              "    </tr>\n",
              "    <tr>\n",
              "      <th>12303</th>\n",
              "      <td>1</td>\n",
              "      <td>15</td>\n",
              "      <td>0</td>\n",
              "      <td>0</td>\n",
              "      <td>6.99</td>\n",
              "      <td>0.816754</td>\n",
              "      <td>0</td>\n",
              "      <td>0</td>\n",
              "      <td>1</td>\n",
              "      <td>0</td>\n",
              "      <td>0</td>\n",
              "      <td>0</td>\n",
              "      <td>0</td>\n",
              "      <td>0</td>\n",
              "      <td>0</td>\n",
              "      <td>0</td>\n",
              "      <td>0</td>\n",
              "      <td>0</td>\n",
              "      <td>0</td>\n",
              "      <td>0</td>\n",
              "      <td>0</td>\n",
              "      <td>0</td>\n",
              "      <td>1</td>\n",
              "      <td>0</td>\n",
              "      <td>0</td>\n",
              "      <td>0</td>\n",
              "      <td>0</td>\n",
              "      <td>0</td>\n",
              "      <td>0</td>\n",
              "      <td>0</td>\n",
              "      <td>0</td>\n",
              "      <td>0</td>\n",
              "      <td>0</td>\n",
              "      <td>0</td>\n",
              "      <td>0</td>\n",
              "      <td>0</td>\n",
              "      <td>0</td>\n",
              "      <td>0</td>\n",
              "      <td>0</td>\n",
              "      <td>0</td>\n",
              "      <td>...</td>\n",
              "      <td>0</td>\n",
              "      <td>0</td>\n",
              "      <td>0</td>\n",
              "      <td>0</td>\n",
              "      <td>0</td>\n",
              "      <td>0</td>\n",
              "      <td>0</td>\n",
              "      <td>0</td>\n",
              "      <td>0</td>\n",
              "      <td>0</td>\n",
              "      <td>0</td>\n",
              "      <td>0</td>\n",
              "      <td>0</td>\n",
              "      <td>0</td>\n",
              "      <td>0</td>\n",
              "      <td>0</td>\n",
              "      <td>0</td>\n",
              "      <td>0</td>\n",
              "      <td>0</td>\n",
              "      <td>0</td>\n",
              "      <td>0</td>\n",
              "      <td>1</td>\n",
              "      <td>0</td>\n",
              "      <td>0</td>\n",
              "      <td>0</td>\n",
              "      <td>0</td>\n",
              "      <td>0</td>\n",
              "      <td>0</td>\n",
              "      <td>0</td>\n",
              "      <td>0</td>\n",
              "      <td>0</td>\n",
              "      <td>0</td>\n",
              "      <td>0</td>\n",
              "      <td>0</td>\n",
              "      <td>1</td>\n",
              "      <td>0</td>\n",
              "      <td>0</td>\n",
              "      <td>0</td>\n",
              "      <td>0</td>\n",
              "      <td>0</td>\n",
              "    </tr>\n",
              "    <tr>\n",
              "      <th>13995</th>\n",
              "      <td>1</td>\n",
              "      <td>12</td>\n",
              "      <td>0</td>\n",
              "      <td>0</td>\n",
              "      <td>1.99</td>\n",
              "      <td>0.909091</td>\n",
              "      <td>0</td>\n",
              "      <td>0</td>\n",
              "      <td>1</td>\n",
              "      <td>0</td>\n",
              "      <td>0</td>\n",
              "      <td>0</td>\n",
              "      <td>0</td>\n",
              "      <td>0</td>\n",
              "      <td>0</td>\n",
              "      <td>0</td>\n",
              "      <td>0</td>\n",
              "      <td>0</td>\n",
              "      <td>0</td>\n",
              "      <td>0</td>\n",
              "      <td>0</td>\n",
              "      <td>0</td>\n",
              "      <td>1</td>\n",
              "      <td>0</td>\n",
              "      <td>0</td>\n",
              "      <td>0</td>\n",
              "      <td>0</td>\n",
              "      <td>0</td>\n",
              "      <td>0</td>\n",
              "      <td>0</td>\n",
              "      <td>0</td>\n",
              "      <td>0</td>\n",
              "      <td>0</td>\n",
              "      <td>0</td>\n",
              "      <td>0</td>\n",
              "      <td>0</td>\n",
              "      <td>0</td>\n",
              "      <td>0</td>\n",
              "      <td>0</td>\n",
              "      <td>0</td>\n",
              "      <td>...</td>\n",
              "      <td>0</td>\n",
              "      <td>0</td>\n",
              "      <td>0</td>\n",
              "      <td>0</td>\n",
              "      <td>0</td>\n",
              "      <td>0</td>\n",
              "      <td>0</td>\n",
              "      <td>0</td>\n",
              "      <td>0</td>\n",
              "      <td>0</td>\n",
              "      <td>0</td>\n",
              "      <td>0</td>\n",
              "      <td>0</td>\n",
              "      <td>0</td>\n",
              "      <td>0</td>\n",
              "      <td>0</td>\n",
              "      <td>0</td>\n",
              "      <td>0</td>\n",
              "      <td>0</td>\n",
              "      <td>0</td>\n",
              "      <td>0</td>\n",
              "      <td>1</td>\n",
              "      <td>0</td>\n",
              "      <td>0</td>\n",
              "      <td>0</td>\n",
              "      <td>0</td>\n",
              "      <td>0</td>\n",
              "      <td>0</td>\n",
              "      <td>0</td>\n",
              "      <td>0</td>\n",
              "      <td>0</td>\n",
              "      <td>0</td>\n",
              "      <td>0</td>\n",
              "      <td>0</td>\n",
              "      <td>1</td>\n",
              "      <td>0</td>\n",
              "      <td>0</td>\n",
              "      <td>0</td>\n",
              "      <td>0</td>\n",
              "      <td>0</td>\n",
              "    </tr>\n",
              "    <tr>\n",
              "      <th>16036</th>\n",
              "      <td>1</td>\n",
              "      <td>81</td>\n",
              "      <td>45</td>\n",
              "      <td>45</td>\n",
              "      <td>9.29</td>\n",
              "      <td>0.797382</td>\n",
              "      <td>1</td>\n",
              "      <td>0</td>\n",
              "      <td>1</td>\n",
              "      <td>0</td>\n",
              "      <td>0</td>\n",
              "      <td>0</td>\n",
              "      <td>0</td>\n",
              "      <td>0</td>\n",
              "      <td>0</td>\n",
              "      <td>0</td>\n",
              "      <td>0</td>\n",
              "      <td>0</td>\n",
              "      <td>0</td>\n",
              "      <td>0</td>\n",
              "      <td>0</td>\n",
              "      <td>0</td>\n",
              "      <td>0</td>\n",
              "      <td>0</td>\n",
              "      <td>0</td>\n",
              "      <td>0</td>\n",
              "      <td>0</td>\n",
              "      <td>0</td>\n",
              "      <td>0</td>\n",
              "      <td>0</td>\n",
              "      <td>0</td>\n",
              "      <td>0</td>\n",
              "      <td>0</td>\n",
              "      <td>0</td>\n",
              "      <td>0</td>\n",
              "      <td>0</td>\n",
              "      <td>0</td>\n",
              "      <td>0</td>\n",
              "      <td>0</td>\n",
              "      <td>0</td>\n",
              "      <td>...</td>\n",
              "      <td>0</td>\n",
              "      <td>0</td>\n",
              "      <td>0</td>\n",
              "      <td>0</td>\n",
              "      <td>0</td>\n",
              "      <td>0</td>\n",
              "      <td>0</td>\n",
              "      <td>0</td>\n",
              "      <td>0</td>\n",
              "      <td>0</td>\n",
              "      <td>0</td>\n",
              "      <td>0</td>\n",
              "      <td>0</td>\n",
              "      <td>0</td>\n",
              "      <td>0</td>\n",
              "      <td>0</td>\n",
              "      <td>0</td>\n",
              "      <td>0</td>\n",
              "      <td>0</td>\n",
              "      <td>0</td>\n",
              "      <td>0</td>\n",
              "      <td>0</td>\n",
              "      <td>1</td>\n",
              "      <td>0</td>\n",
              "      <td>0</td>\n",
              "      <td>0</td>\n",
              "      <td>0</td>\n",
              "      <td>0</td>\n",
              "      <td>0</td>\n",
              "      <td>0</td>\n",
              "      <td>0</td>\n",
              "      <td>0</td>\n",
              "      <td>0</td>\n",
              "      <td>0</td>\n",
              "      <td>1</td>\n",
              "      <td>0</td>\n",
              "      <td>0</td>\n",
              "      <td>0</td>\n",
              "      <td>0</td>\n",
              "      <td>0</td>\n",
              "    </tr>\n",
              "    <tr>\n",
              "      <th>1256</th>\n",
              "      <td>1</td>\n",
              "      <td>12</td>\n",
              "      <td>188</td>\n",
              "      <td>146</td>\n",
              "      <td>9.99</td>\n",
              "      <td>0.862047</td>\n",
              "      <td>0</td>\n",
              "      <td>0</td>\n",
              "      <td>1</td>\n",
              "      <td>0</td>\n",
              "      <td>0</td>\n",
              "      <td>0</td>\n",
              "      <td>1</td>\n",
              "      <td>0</td>\n",
              "      <td>0</td>\n",
              "      <td>0</td>\n",
              "      <td>0</td>\n",
              "      <td>0</td>\n",
              "      <td>0</td>\n",
              "      <td>0</td>\n",
              "      <td>0</td>\n",
              "      <td>0</td>\n",
              "      <td>1</td>\n",
              "      <td>0</td>\n",
              "      <td>0</td>\n",
              "      <td>0</td>\n",
              "      <td>0</td>\n",
              "      <td>0</td>\n",
              "      <td>0</td>\n",
              "      <td>0</td>\n",
              "      <td>0</td>\n",
              "      <td>0</td>\n",
              "      <td>0</td>\n",
              "      <td>0</td>\n",
              "      <td>0</td>\n",
              "      <td>0</td>\n",
              "      <td>0</td>\n",
              "      <td>0</td>\n",
              "      <td>0</td>\n",
              "      <td>0</td>\n",
              "      <td>...</td>\n",
              "      <td>0</td>\n",
              "      <td>0</td>\n",
              "      <td>0</td>\n",
              "      <td>0</td>\n",
              "      <td>0</td>\n",
              "      <td>0</td>\n",
              "      <td>0</td>\n",
              "      <td>0</td>\n",
              "      <td>0</td>\n",
              "      <td>0</td>\n",
              "      <td>0</td>\n",
              "      <td>0</td>\n",
              "      <td>0</td>\n",
              "      <td>0</td>\n",
              "      <td>0</td>\n",
              "      <td>0</td>\n",
              "      <td>0</td>\n",
              "      <td>0</td>\n",
              "      <td>0</td>\n",
              "      <td>0</td>\n",
              "      <td>0</td>\n",
              "      <td>0</td>\n",
              "      <td>0</td>\n",
              "      <td>1</td>\n",
              "      <td>0</td>\n",
              "      <td>0</td>\n",
              "      <td>0</td>\n",
              "      <td>0</td>\n",
              "      <td>0</td>\n",
              "      <td>0</td>\n",
              "      <td>0</td>\n",
              "      <td>0</td>\n",
              "      <td>0</td>\n",
              "      <td>0</td>\n",
              "      <td>0</td>\n",
              "      <td>1</td>\n",
              "      <td>0</td>\n",
              "      <td>0</td>\n",
              "      <td>0</td>\n",
              "      <td>0</td>\n",
              "    </tr>\n",
              "    <tr>\n",
              "      <th>8658</th>\n",
              "      <td>1</td>\n",
              "      <td>25</td>\n",
              "      <td>0</td>\n",
              "      <td>0</td>\n",
              "      <td>4.99</td>\n",
              "      <td>0.869565</td>\n",
              "      <td>0</td>\n",
              "      <td>0</td>\n",
              "      <td>1</td>\n",
              "      <td>0</td>\n",
              "      <td>0</td>\n",
              "      <td>0</td>\n",
              "      <td>0</td>\n",
              "      <td>0</td>\n",
              "      <td>0</td>\n",
              "      <td>0</td>\n",
              "      <td>0</td>\n",
              "      <td>0</td>\n",
              "      <td>0</td>\n",
              "      <td>0</td>\n",
              "      <td>0</td>\n",
              "      <td>0</td>\n",
              "      <td>1</td>\n",
              "      <td>0</td>\n",
              "      <td>0</td>\n",
              "      <td>0</td>\n",
              "      <td>0</td>\n",
              "      <td>0</td>\n",
              "      <td>0</td>\n",
              "      <td>0</td>\n",
              "      <td>0</td>\n",
              "      <td>0</td>\n",
              "      <td>0</td>\n",
              "      <td>0</td>\n",
              "      <td>0</td>\n",
              "      <td>0</td>\n",
              "      <td>0</td>\n",
              "      <td>0</td>\n",
              "      <td>0</td>\n",
              "      <td>0</td>\n",
              "      <td>...</td>\n",
              "      <td>0</td>\n",
              "      <td>0</td>\n",
              "      <td>0</td>\n",
              "      <td>0</td>\n",
              "      <td>0</td>\n",
              "      <td>0</td>\n",
              "      <td>0</td>\n",
              "      <td>0</td>\n",
              "      <td>0</td>\n",
              "      <td>0</td>\n",
              "      <td>0</td>\n",
              "      <td>0</td>\n",
              "      <td>0</td>\n",
              "      <td>0</td>\n",
              "      <td>0</td>\n",
              "      <td>0</td>\n",
              "      <td>0</td>\n",
              "      <td>0</td>\n",
              "      <td>0</td>\n",
              "      <td>0</td>\n",
              "      <td>0</td>\n",
              "      <td>1</td>\n",
              "      <td>0</td>\n",
              "      <td>0</td>\n",
              "      <td>0</td>\n",
              "      <td>0</td>\n",
              "      <td>0</td>\n",
              "      <td>0</td>\n",
              "      <td>0</td>\n",
              "      <td>0</td>\n",
              "      <td>0</td>\n",
              "      <td>0</td>\n",
              "      <td>0</td>\n",
              "      <td>0</td>\n",
              "      <td>1</td>\n",
              "      <td>0</td>\n",
              "      <td>0</td>\n",
              "      <td>0</td>\n",
              "      <td>0</td>\n",
              "      <td>0</td>\n",
              "    </tr>\n",
              "  </tbody>\n",
              "</table>\n",
              "<p>5415 rows × 8076 columns</p>\n",
              "</div>"
            ],
            "text/plain": [
              "       english  achievements  average_playtime  ...  age_18  age_3  age_7\n",
              "4787         1            18                 0  ...       0      0      0\n",
              "15124        1             0                 0  ...       0      0      0\n",
              "9248         1            35               309  ...       1      0      0\n",
              "15876        1            15                 0  ...       0      0      0\n",
              "4873         1            50               245  ...       1      0      0\n",
              "...        ...           ...               ...  ...     ...    ...    ...\n",
              "12303        1            15                 0  ...       0      0      0\n",
              "13995        1            12                 0  ...       0      0      0\n",
              "16036        1            81                45  ...       0      0      0\n",
              "1256         1            12               188  ...       0      0      0\n",
              "8658         1            25                 0  ...       0      0      0\n",
              "\n",
              "[5415 rows x 8076 columns]"
            ]
          },
          "metadata": {
            "tags": []
          },
          "execution_count": 32
        }
      ]
    },
    {
      "cell_type": "markdown",
      "metadata": {
        "id": "X_Sn_9SVj7-C",
        "colab_type": "text"
      },
      "source": [
        "### Separando X e y\n",
        "Após separar os sets de treinamento e teste, queremos dividir as labels (y) das features (X)."
      ]
    },
    {
      "cell_type": "code",
      "metadata": {
        "id": "uU6TUL5ELwOE",
        "colab_type": "code",
        "colab": {}
      },
      "source": [
        "# Variáveis independentes: dataset original menos a coluna de valores dependentes.\n",
        "steam = strat_train_set.drop([\"positive_rate\"], axis=1)\n",
        "\n",
        "# Variável dependente, também chamada de label.\n",
        "steam_labels = strat_train_set[\"positive_rate\"].copy()"
      ],
      "execution_count": 33,
      "outputs": []
    },
    {
      "cell_type": "code",
      "metadata": {
        "id": "DOpHx0Q7NhzC",
        "colab_type": "code",
        "colab": {
          "base_uri": "https://localhost:8080/",
          "height": 221
        },
        "outputId": "5af9c837-5120-481b-a624-ca0963353352"
      },
      "source": [
        "steam_labels #são os positive_rates"
      ],
      "execution_count": 34,
      "outputs": [
        {
          "output_type": "execute_result",
          "data": {
            "text/plain": [
              "14854    1.000000\n",
              "9552     0.898876\n",
              "3991     0.512821\n",
              "12574    0.416667\n",
              "4837     0.675000\n",
              "           ...   \n",
              "2101     0.513174\n",
              "4007     0.900662\n",
              "12592    0.875000\n",
              "14847    0.608696\n",
              "18645    0.444444\n",
              "Name: positive_rate, Length: 21660, dtype: float64"
            ]
          },
          "metadata": {
            "tags": []
          },
          "execution_count": 34
        }
      ]
    },
    {
      "cell_type": "markdown",
      "metadata": {
        "id": "lqUZ29TlIOUE",
        "colab_type": "text"
      },
      "source": [
        "# Definindo modelos\n",
        "\n",
        "\n",
        "Neste projeto, utilizaremos uma série de modelos para realizar as predições das porcentagens de avaliações positivas, a fim de entender quais modelos mais se adequam ao problema e fazer análises mais profundas. Para isso, é feita uma validação onde compara-se o RMSE desses modelos, afim de achar o que gera o menor valor.\n",
        "\n",
        "Obs.: Uma limitação do nosso projeto é que não conseguimos fazer uma validação cruzada nem um ajuste de hiperparâmetros, pois o `cross_val` e o `GridSearchCV` não rodam por falta de RAM. No lugar disso foi feita uma validação simples e um ajuste manual de um parâmetro (o da regularização)."
      ]
    },
    {
      "cell_type": "markdown",
      "metadata": {
        "id": "-TP271lbQDXR",
        "colab_type": "text"
      },
      "source": [
        "### Decision Trees\n",
        "\n",
        "Um dos algoritmos propostos será o de Decision Trees: um algoritmo de Machine Learning bastante versátil, que pode realizar tanto tarefas de classificação quanto regressão, além de tarefas com outputs múltiplos, com datasets bastante complexos. As Decision Trees também são componentes fundamentais das Random Forests, que estão entre os algoritmos de Machine Learning mais poderosos atualmente.\n",
        "\n",
        "Mas como esses algoritmos funcionam? As Decision Trees utilizam o chamado CART (ou Classification And Regression Tree) para realizar o treinamento. A ideia dele é basicamente dividir o set de treinamento usando uma feature e um threshold para tentar produzir subsets com maior pureza (minimizando, assim, o erro). Com isso, o algoritmo cria bifurcações de **decisões** para diminuir os possíveis resultados. Essa ideia fica mais intuitiva quando observamos a imagem a seguir:\n",
        "\n",
        "<figure>\n",
        "  <center>\n",
        "  <a href=\"https://i.imgur.com/DCCPl8Y.png\">\n",
        "  <img src=\"https://i.imgur.com/DCCPl8Y.png\" alt=\"Exemplo de Decision Tree usando o famoso Iris dataset\" height=\"300\" />\n",
        "  </a>\n",
        "  <figcaption> Exemplo de Decision Tree usando o famoso Iris dataset - Clique para aumentar</figcaption>\n",
        "  </center>\n",
        "</figure>\n",
        "\n",
        "Uma das grandes vantagens é que não é necessário escalar as features para a Decision Tree, pois ela não é afetada por isso. Isso acontece, pois ela utiliza somente uma feature por tomada de decisão, nunca comparando mais de uma. Ela vai utilizar os valores da própria feature para compor seus thresholds nos nós. Se ela está tratando com 1000 ou 1, não fará diferença para esse threshould. Assim, podemos dizer que as Decision Trees são modelos não-paramétricos.\n",
        "\n",
        "Um modelo paramétrico, como por exemplo um modelo linear, tem um número pré-determinado de parâmetros, então seus graus de liberdade são limitados, reduzindo o risco de overfitting, mas aumentando o risco de underfitting. Já um modelo não-paramétrico, como o Decision Tree, não possui esse número pré-determinado, mas sim ele tentará se adaptar aos dados, criando uma estrutura própria que o ajude a se manter próximo aos dados. O problema disso é que o risco de overfitting é muito alto, mas há ganhos de simplicidade de treinamento, entre outros. Para diminuir esse risco, é necessário ajustar os hiperparâmetros do modelo, a fim de evitar overfitting.\n"
      ]
    },
    {
      "cell_type": "markdown",
      "metadata": {
        "id": "7dV2EO-CQEsB",
        "colab_type": "text"
      },
      "source": [
        "### Random Forest\n",
        "\n",
        "Agora, suponha que você pergunte algo complexo para milhares de pessoas aleatórias e agregue suas respostas. Em muitos casos, você vai observar que essa resposta agregada é melhor do que a resposta de um especialista. Isto é chamado de *sabedoria das multidões* (ou *wisdom of the crowds*). \n",
        "\n",
        "De forma similar, se você agregar as predições de um grupo de modelos, você frequentemente sairá com melhores predições do que com apenas um ótimo modelo. Um grupo de preditores é chamado de *ensemble* (ou conjunto); assim, essa técnica é chamada de Ensemble Learning.\n",
        "\n",
        "Este é o caso da famosa Random Forest que discutimos mais cedo. Esse algoritmo nada mais é do que um conjunto de Decision Trees que foram treinadas em subsets aleatórios do nosso set de treinamento. Para fazer as predições, basta obter as predições de todas as árvores individualmente e agregá-las para fazer uma média, no caso de regressão, ou a classe mais votada, no caso de classificação.\n",
        "\n",
        "<figure>\n",
        "  <center>\n",
        "  <a href=\"https://cdn.analyticsvidhya.com/wp-content/uploads/2020/02/rfc_vs_dt1.png\">\n",
        "  <img src=\"https://cdn.analyticsvidhya.com/wp-content/uploads/2020/02/rfc_vs_dt1.png\" alt=\"Estrutura da Random Forest\" height=\"300\" />\n",
        "  </a>\n",
        "  <figcaption> Estrutura da Random Forest - Clique para aumentar</figcaption>\n",
        "  </center>\n",
        "</figure>\n",
        "\n",
        "Apesar da sua simplicidade, a Random Forest é um dos algoritmos mais poderosos de Machine Learning disponíveis atualmente."
      ]
    },
    {
      "cell_type": "markdown",
      "metadata": {
        "id": "p7rv2yuUu7q6",
        "colab_type": "text"
      },
      "source": [
        "### Modelos Lineares Regularizados\n",
        "\n",
        "Como visto na definição das Decision Trees, elas possuem um alto risco de *overfitting*, ou seja, ele pode se ajustar tão bem aos dados de treinamento que ajusta-se ao seu ruído, tornando o erro de validação e teste muito mais alto. Para evitar isso, podemos ajustar seus hiperparâmetros. \n",
        "\n",
        "Contudo, precisamos também variar os modelos para medir a qualidade. Para isso, utilizaremos os modelos lineares com e sem regularizações.\n",
        "\n",
        "Uma boa maneira de se reduzir o *overfitting* nesses modelos é regularizando-os. Um exemplo de regularização seria restringi-lo: quanto menos graus de liberdade o modelo tiver, mais dificíl de acontecer *overfit* sobre os dados. Para um modelo linear, a regularização tipicamente é realizada através da restrição dos pesos do modelo.\n",
        "Veremos então as regressões Ridge, Lasso e Elastic Net, que são três implementações diferentes de restrição de pesos."
      ]
    },
    {
      "cell_type": "markdown",
      "metadata": {
        "id": "HdkcHgMvydeg",
        "colab_type": "text"
      },
      "source": [
        "#### Ridge Regression\n",
        "\n",
        "A regressão Ridge é uma versão regularizada da regressão linear com um *termo de regularização* adicionado à função de custo. Esse termo é dado por \n",
        "\n",
        "$J(\\theta) = MSE(\\theta) +  {\\alpha} {\\sum_{i=1}^{n}} = {{\\theta}^2 _i}$\n",
        "\n",
        "Com $\\theta$ sendo cada amostra do dataset.\n",
        "\n",
        "Isso força o algoritmo de aprendizado não apenas a se adequar aos dados, mas para manter os pesos do modelo o mais baixos possível. É importante notar que o termo de regularização só deve ser adicionado à função de custo no treinamento, avaliando a métrica de performance sem regularização no momento do teste.\n",
        "\n",
        "O hiperparâmetro ${\\alpha}$ é responsável por controlar o quão regularizado será o modelo:\n",
        "\n",
        "\n",
        "*   Se ${\\alpha} = 0$, não há regularização.\n",
        "*   Se ${\\alpha}$ for muito alto, então todos os pesos ficam perto de zero e o resultado é uma linha passando pela média dos dados."
      ]
    },
    {
      "cell_type": "markdown",
      "metadata": {
        "id": "rmWFn2Ti49yZ",
        "colab_type": "text"
      },
      "source": [
        "#### Lasso Regression\n",
        "\n",
        "A regressão Lasso é uma outra forma de regularizar a regressão Linear. Assim como a Ridge, adicionamos um termo de regularização à função de custo do modelo. Este termo é dado por:\n",
        "\n",
        " $J(\\theta) = MSE(\\theta) +{\\alpha} {\\sum_{i=1}^{n}} = {|{\\theta}_i|}$.\n",
        "\n",
        "Uma característica importante da regressão Lasso é que ela tende a eliminar completamente os pesos das *features menos importantes*, até mesmo zerando-as. Assim, é possível usar esse tipo de técnica para realizar a seleção de features automaticamente, retornando um modelo esparso (ou seja, com poucos pesos de features não-nulos).\n"
      ]
    },
    {
      "cell_type": "markdown",
      "metadata": {
        "id": "Ra_xofvF4_oz",
        "colab_type": "text"
      },
      "source": [
        "#### Elastic Net\n",
        "\n",
        "Já o Elastic Net é um nível intermediário entre a regressão Ridge e Lasso. O termo de regularização nesse caso é uma simples mistura dos termos das outras duas regressões, com uma variável $r$ que permite controlar a razão de mescla desses termos.\n",
        "\n",
        "\n",
        "*   Quando $r = 0$, o Elastic Net é equivalente à Ridge Regression.\n",
        "*   Quando $r = 1$, o Elastic Net é equivalente à Lasso Regression.\n",
        "\n",
        "Esse termo então fica com a fórmula:\n",
        "\n",
        "$J(\\theta) = MSE(\\theta) +{{r \\alpha \\sum_{i=1}^n | \\theta _i |} + {\\frac{1-r}{2}}\\alpha \\sum_{i=1}^n \\theta^2 _i}$\n",
        "\n",
        "Geralmente é bom ter pelo menos um pouco de regularização no modelo, então prefere-se evitar a regressão Linear simples. Mas como escolher entre todas essas opções?\n",
        "\n",
        "A regressão Ridge é um bom padrão, mas a Lasso e Elastic Net são mais recomendadas, pois elas tendem a reduzir o peso das features inúteis a zero, como discutido anteriormente. Contudo, a Elastic Net é preferida ao invés da Lasso, pois essa segunda pode ter resultados inesperados se o número de features for maior que o tamanho do set de treino ou quando várias features são fortemente correlacionadas."
      ]
    },
    {
      "cell_type": "markdown",
      "metadata": {
        "id": "vpbmd0QuSDNz",
        "colab_type": "text"
      },
      "source": [
        "### Logito\n",
        "\n",
        "Algo importante de se notar é a implementação do logito na variável `positive_rate`. Como essa variável dependente é uma porcentagem (ela está necessariamente no intervalo de 0 a 1) para os regressores lineares funcionarem bem foi preciso aplicar nela uma função chamada logito. Essa função transforma o intervalo de 0 a 1 em um de menos infinito a mais infinito. Matematicamente o logito é definido como:\n",
        "\n",
        "$$\n",
        "f(x) = log(\\frac{x}{1 - x})\n",
        "$$\n",
        "\n",
        "Tivemos de aplicar essa função, pois a regressão linear naturalmente nunca seria capaz de se adequar a curva da nossa variável, que se assemelha a uma função logística.\n",
        "\n",
        "<figure>\n",
        "  <center>\n",
        "  <a href=\"https://upload.wikimedia.org/wikipedia/commons/thumb/8/88/Logistic-curve.svg/1200px-Logistic-curve.svg.png\">\n",
        "  <img src=\"https://upload.wikimedia.org/wikipedia/commons/thumb/8/88/Logistic-curve.svg/1200px-Logistic-curve.svg.png\" alt=\"Função logística\" height=\"300\" />\n",
        "  </a>\n",
        "  <figcaption> Função logística, imitando a curva do positive_rate - Clique para aumentar</figcaption>\n",
        "  </center>\n",
        "</figure>\n",
        "\n",
        "Então, foi preciso aplicar o logito na variável dependente de todos os treinamentos, incluindo a Decision Tree e da Random Forest para poder comparar os resultados. Isso acontece pois, mesmo que esses dois últimos modelos não precisem do logito, o erro precisa ser equivalente para a comparação (todos os modelos tem que ter os mesmos dados de treino e validação).\n",
        "\n",
        "<figure>\n",
        "  <center>\n",
        "  <a href=\"https://upload.wikimedia.org/wikipedia/commons/5/57/Logit.png\">\n",
        "  <img src=\"https://upload.wikimedia.org/wikipedia/commons/5/57/Logit.png\" alt=\"Função logito\" height=\"300\" />\n",
        "  </a>\n",
        "  <figcaption> Função do logito, tratando a variável positive_rate - Clique para aumentar</figcaption>\n",
        "  </center>\n",
        "</figure>"
      ]
    },
    {
      "cell_type": "code",
      "metadata": {
        "id": "ET3mJ9IypNhR",
        "colab_type": "code",
        "colab": {}
      },
      "source": [
        "from sklearn.model_selection import train_test_split\n",
        "X_train, X_validate, y_train, y_validate = train_test_split(steam, steam_labels, test_size=0.2, random_state=RANDOM_SEED)"
      ],
      "execution_count": 35,
      "outputs": []
    },
    {
      "cell_type": "code",
      "metadata": {
        "id": "DlCu6ZjYI_Yb",
        "colab_type": "code",
        "colab": {}
      },
      "source": [
        "lin_reg = LinearRegression() # No caso, também fazemos uma regressão linear simples para efeitos de comparação\n",
        "tree_reg = DecisionTreeRegressor(random_state=RANDOM_SEED)\n",
        "forest_reg = RandomForestRegressor(n_estimators=10, random_state=RANDOM_SEED)"
      ],
      "execution_count": 36,
      "outputs": []
    },
    {
      "cell_type": "code",
      "metadata": {
        "id": "CjzFtHPDDmwM",
        "colab_type": "code",
        "colab": {}
      },
      "source": [
        "def logit(y):\n",
        "  delta = 1e-2\n",
        "  y = (1-2*delta)*y + delta\n",
        "  return np.log(y/(1-y))"
      ],
      "execution_count": 37,
      "outputs": []
    },
    {
      "cell_type": "code",
      "metadata": {
        "id": "k_wYdQPJpNpV",
        "colab_type": "code",
        "colab": {
          "base_uri": "https://localhost:8080/",
          "height": 34
        },
        "outputId": "3e350259-f206-4659-c447-b760fb5fd3e8"
      },
      "source": [
        "# Regressão linear simples\n",
        "lin_reg.fit(X_train, logit(y_train))\n",
        "\n",
        "y_pred = lin_reg.predict(X_validate)\n",
        "lin_rmse = np.sqrt(mean_squared_error(logit(y_validate), y_pred))\n",
        "print('Regressão Linear: RMSE = {:.2f}'.format(lin_rmse))"
      ],
      "execution_count": 38,
      "outputs": [
        {
          "output_type": "stream",
          "text": [
            "Regressão Linear: RMSE = 27007610.54\n"
          ],
          "name": "stdout"
        }
      ]
    },
    {
      "cell_type": "code",
      "metadata": {
        "id": "S-txYYOWp-lB",
        "colab_type": "code",
        "colab": {
          "base_uri": "https://localhost:8080/",
          "height": 34
        },
        "outputId": "fd105678-1ec7-45a1-e347-8e74c293c089"
      },
      "source": [
        "# Regressor Decision Tree\n",
        "tree_reg.fit(X_train, logit(y_train))\n",
        "\n",
        "y_pred = tree_reg.predict(X_validate)\n",
        "tree_rmse = np.sqrt(mean_squared_error(logit(y_validate), y_pred))\n",
        "print('Regressão Decision Tree: RMSE = {}'.format(tree_rmse))"
      ],
      "execution_count": 39,
      "outputs": [
        {
          "output_type": "stream",
          "text": [
            "Regressão Decision Tree: RMSE = 2.171469963992391\n"
          ],
          "name": "stdout"
        }
      ]
    },
    {
      "cell_type": "code",
      "metadata": {
        "id": "jnIz62e9vl6J",
        "colab_type": "code",
        "colab": {
          "base_uri": "https://localhost:8080/",
          "height": 34
        },
        "outputId": "043ef004-0d64-4066-a948-e070e5e29b3a"
      },
      "source": [
        "# Regressor Random Forest\n",
        "\n",
        "forest_reg.fit(X_train, logit(y_train))\n",
        "\n",
        "y_pred = forest_reg.predict(X_validate)\n",
        "forest_rmse = np.sqrt(mean_squared_error(logit(y_validate), y_pred))\n",
        "print('Regressão Random Forest: RMSE = {}'.format(forest_rmse))"
      ],
      "execution_count": 40,
      "outputs": [
        {
          "output_type": "stream",
          "text": [
            "Regressão Random Forest: RMSE = 1.7901463151352213\n"
          ],
          "name": "stdout"
        }
      ]
    },
    {
      "cell_type": "code",
      "metadata": {
        "id": "iM0wVwSdl1PD",
        "colab_type": "code",
        "colab": {}
      },
      "source": [
        "# Modelos Lineares regularizados (Ridge, Lasso e Elastic Net)\n",
        "alpha = 0.1\n",
        "\n",
        "lin_reg_ridge = Ridge(alpha=alpha)\n",
        "lin_reg_lasso = Lasso(alpha=alpha)\n",
        "lin_reg_elastic = ElasticNet(alpha=alpha, l1_ratio=0.5, random_state=RANDOM_SEED)"
      ],
      "execution_count": 41,
      "outputs": []
    },
    {
      "cell_type": "code",
      "metadata": {
        "id": "3j5uAcOlnFg3",
        "colab_type": "code",
        "colab": {
          "base_uri": "https://localhost:8080/",
          "height": 34
        },
        "outputId": "1dad9625-f92a-49ae-e4c1-ea4efb426aca"
      },
      "source": [
        "# Ridge\n",
        "lin_reg_ridge.fit(X_train, logit(y_train))\n",
        "\n",
        "y_pred = lin_reg_ridge.predict(X_validate)\n",
        "lin_reg_ridge_rmse = np.sqrt(mean_squared_error(logit(y_validate), y_pred))\n",
        "print('Regressão Ridge): RMSE = {}'.format(lin_reg_ridge_rmse))"
      ],
      "execution_count": 42,
      "outputs": [
        {
          "output_type": "stream",
          "text": [
            "Regressão Ridge): RMSE = 1.744043074407111\n"
          ],
          "name": "stdout"
        }
      ]
    },
    {
      "cell_type": "code",
      "metadata": {
        "id": "ikex5TYKnYKi",
        "colab_type": "code",
        "colab": {
          "base_uri": "https://localhost:8080/",
          "height": 34
        },
        "outputId": "281d33bf-2c5d-4873-e696-43672f2c12b0"
      },
      "source": [
        "# Lasso\n",
        "lin_reg_lasso.fit(X_train, logit(y_train))\n",
        "\n",
        "y_pred = lin_reg_lasso.predict(X_validate)\n",
        "lin_reg_lasso_rmse = np.sqrt(mean_squared_error(logit(y_validate), y_pred))\n",
        "print('Regressão Lasso: RMSE = {}'.format(lin_reg_lasso_rmse))"
      ],
      "execution_count": 43,
      "outputs": [
        {
          "output_type": "stream",
          "text": [
            "Regressão Lasso: RMSE = 1.7443117322877957\n"
          ],
          "name": "stdout"
        }
      ]
    },
    {
      "cell_type": "code",
      "metadata": {
        "id": "qg9K5Wk3LeZS",
        "colab_type": "code",
        "colab": {}
      },
      "source": [
        "# sorted(lin_reg_lasso.coef_, reverse=True)\n",
        "# lin_reg_lasso.intercept_\n",
        "# y_train.mean()"
      ],
      "execution_count": 44,
      "outputs": []
    },
    {
      "cell_type": "code",
      "metadata": {
        "id": "U0wlW-aTnprf",
        "colab_type": "code",
        "colab": {
          "base_uri": "https://localhost:8080/",
          "height": 34
        },
        "outputId": "7cd7b1f7-8343-4cb5-f17c-b3a53232f008"
      },
      "source": [
        "# Elastic Net\n",
        "lin_reg_elastic.fit(X_train, logit(y_train))\n",
        "\n",
        "y_pred = lin_reg_elastic.predict(X_validate)\n",
        "lin_reg_elastic_rmse = np.sqrt(mean_squared_error(logit(y_validate), y_pred))\n",
        "print('Regressão Elastic Net: RMSE = {}'.format(lin_reg_elastic_rmse))"
      ],
      "execution_count": 45,
      "outputs": [
        {
          "output_type": "stream",
          "text": [
            "Regressão Elastic Net: RMSE = 1.7341531103795031\n"
          ],
          "name": "stdout"
        }
      ]
    },
    {
      "cell_type": "markdown",
      "metadata": {
        "id": "NTUAYmYGwbcJ",
        "colab_type": "text"
      },
      "source": [
        "Nesse projeto, optamos por utilizar a métrica do erro quadrático médio (Root Mean Square Error ou, simplesmente, RMSE). Essa métrica é a raiz do erro médio quadrático da diferença entre o valor predito e o valor observado. Assim, quanto menor esse valor, menor é a diferença entre o valor previsto e o valor observado. Podemos pensar nela como sendo uma medida análoga ao desvio padrão."
      ]
    },
    {
      "cell_type": "code",
      "metadata": {
        "id": "BdW8MJQ4uXaZ",
        "colab_type": "code",
        "colab": {
          "base_uri": "https://localhost:8080/",
          "height": 119
        },
        "outputId": "412e0f43-97c6-4fb1-acb0-246c47eb8001"
      },
      "source": [
        "print('Regressão Linear: RMSE = {:.2f}'.format(lin_rmse))\n",
        "print('Regressão Decision Tree: RMSE = {}'.format(tree_rmse))\n",
        "print('Regressão Random Forest: RMSE = {}'.format(forest_rmse))\n",
        "print('Regressão Ridge: RMSE = {}'.format(lin_reg_ridge_rmse))\n",
        "print('Regressão Lasso: RMSE = {}'.format(lin_reg_lasso_rmse))\n",
        "print('Regressão Elastic Net: RMSE = {}'.format(lin_reg_elastic_rmse))"
      ],
      "execution_count": 46,
      "outputs": [
        {
          "output_type": "stream",
          "text": [
            "Regressão Linear: RMSE = 27007610.54\n",
            "Regressão Decision Tree: RMSE = 2.171469963992391\n",
            "Regressão Random Forest: RMSE = 1.7901463151352213\n",
            "Regressão Ridge: RMSE = 1.744043074407111\n",
            "Regressão Lasso): RMSE = 1.7443117322877957\n",
            "Regressão Elastic Net): RMSE = 1.7341531103795031\n"
          ],
          "name": "stdout"
        }
      ]
    },
    {
      "cell_type": "markdown",
      "metadata": {
        "id": "Uu_b2pAbIiel",
        "colab_type": "text"
      },
      "source": [
        "Como pudemos observar, o menor RMSE gerado foi dado pela regressão Elastic Net. Por isso, vamos tentar entender melhor esse modelo, analisando seus coeficientes e outros resultados.\n",
        "\n"
      ]
    },
    {
      "cell_type": "markdown",
      "metadata": {
        "id": "4zLAneO8GDda",
        "colab_type": "text"
      },
      "source": [
        "### Análise do Elastic Net\n",
        "\n",
        "Como escolhemos a regressão Elastic Net para estudar nosso problema, vamos fazer algumas análises nessa seção."
      ]
    },
    {
      "cell_type": "code",
      "metadata": {
        "id": "ewxP3bW1EMiO",
        "colab_type": "code",
        "colab": {
          "base_uri": "https://localhost:8080/",
          "height": 357
        },
        "outputId": "b9699c30-e089-42c9-bcde-81ba1d92555c"
      },
      "source": [
        "sorted(lin_reg_elastic.coef_, reverse=True)[:20]\n",
        "# lin_reg_elastic.intercept_\n",
        "# y_train.mean()"
      ],
      "execution_count": 47,
      "outputs": [
        {
          "output_type": "execute_result",
          "data": {
            "text/plain": [
              "[0.04875915495857794,\n",
              " 0.04586406651975248,\n",
              " 0.019367558849264537,\n",
              " 0.012926374618254702,\n",
              " 0.007818717061594618,\n",
              " 2.046916117911968e-05,\n",
              " -0.0,\n",
              " 0.0,\n",
              " 0.0,\n",
              " 0.0,\n",
              " 0.0,\n",
              " 0.0,\n",
              " 0.0,\n",
              " 0.0,\n",
              " -0.0,\n",
              " 0.0,\n",
              " 0.0,\n",
              " 0.0,\n",
              " 0.0,\n",
              " -0.0]"
            ]
          },
          "metadata": {
            "tags": []
          },
          "execution_count": 47
        }
      ]
    },
    {
      "cell_type": "markdown",
      "metadata": {
        "id": "4mnXLNodHkSx",
        "colab_type": "text"
      },
      "source": [
        "Observando os coeficientes, parece que o alpha escolhido ficou muito alto! De todas as features que estávamos lidando (aprox 8000), apenas algumas (6) estão fazendo efeito no modelo. Isso significa que provavelmente o regressor está apenas fazendo uma linha na média. Vamos tentar diminuir esse alpha para ajustar o modelo."
      ]
    },
    {
      "cell_type": "code",
      "metadata": {
        "id": "kJbZxN7hICac",
        "colab_type": "code",
        "colab": {}
      },
      "source": [
        "alpha2 = 0.01\n",
        "alpha3 = 0.001\n",
        "alpha4 = 0.0001\n",
        "alpha5 = 0.00001\n",
        "lin_reg_elastic2 = ElasticNet(alpha=alpha2, l1_ratio=0.5, random_state=RANDOM_SEED)\n",
        "lin_reg_elastic3 = ElasticNet(alpha=alpha3, l1_ratio=0.5, random_state=RANDOM_SEED)\n",
        "lin_reg_elastic4 = ElasticNet(alpha=alpha4, l1_ratio=0.5, random_state=RANDOM_SEED, max_iter=6000)\n",
        "lin_reg_elastic5 = ElasticNet(alpha=alpha5, l1_ratio=0.5, random_state=RANDOM_SEED, max_iter=3000)"
      ],
      "execution_count": 48,
      "outputs": []
    },
    {
      "cell_type": "code",
      "metadata": {
        "id": "UHd-o0fNIX0K",
        "colab_type": "code",
        "colab": {
          "base_uri": "https://localhost:8080/",
          "height": 34
        },
        "outputId": "d4382020-722f-49ca-fdef-5b3219da9a9f"
      },
      "source": [
        "lin_reg_elastic2.fit(X_train, logit(y_train))\n",
        "\n",
        "y_pred = lin_reg_elastic2.predict(X_validate)\n",
        "lin_reg_elastic_rmse = np.sqrt(mean_squared_error(logit(y_validate), y_pred))\n",
        "print('Regressão Elastic Net: RMSE = {}'.format(lin_reg_elastic_rmse))"
      ],
      "execution_count": 49,
      "outputs": [
        {
          "output_type": "stream",
          "text": [
            "Regressão Elastic Net: RMSE = 1.6967785826414756\n"
          ],
          "name": "stdout"
        }
      ]
    },
    {
      "cell_type": "code",
      "metadata": {
        "id": "Q9jhbRv3IcUW",
        "colab_type": "code",
        "colab": {
          "base_uri": "https://localhost:8080/",
          "height": 357
        },
        "outputId": "723c4753-167e-472e-c230-dc889682e359"
      },
      "source": [
        "sorted(lin_reg_elastic2.coef_, reverse=True)[:20]"
      ],
      "execution_count": 50,
      "outputs": [
        {
          "output_type": "execute_result",
          "data": {
            "text/plain": [
              "[0.6526051101353807,\n",
              " 0.3386789028135034,\n",
              " 0.2775634439749966,\n",
              " 0.18685875083551484,\n",
              " 0.1825740863012459,\n",
              " 0.1322044851872361,\n",
              " 0.1298314401215881,\n",
              " 0.10634923658832784,\n",
              " 0.06749445017800593,\n",
              " 0.05895999688180234,\n",
              " 0.0543443419625155,\n",
              " 0.022347147727132782,\n",
              " 0.011564137184059686,\n",
              " 0.002977913673370434,\n",
              " 2.6404125371477827e-05,\n",
              " 0.0,\n",
              " 0.0,\n",
              " 0.0,\n",
              " 0.0,\n",
              " 0.0]"
            ]
          },
          "metadata": {
            "tags": []
          },
          "execution_count": 50
        }
      ]
    },
    {
      "cell_type": "code",
      "metadata": {
        "id": "xVx2vg6LIfRG",
        "colab_type": "code",
        "colab": {
          "base_uri": "https://localhost:8080/",
          "height": 34
        },
        "outputId": "f4ac3f23-9a57-4659-f51f-13091014ee71"
      },
      "source": [
        "lin_reg_elastic3.fit(X_train, logit(y_train))\n",
        "\n",
        "y_pred = lin_reg_elastic3.predict(X_validate)\n",
        "lin_reg_elastic_rmse = np.sqrt(mean_squared_error(logit(y_validate), y_pred))\n",
        "print('Regressão Elastic Net: RMSE = {}'.format(lin_reg_elastic_rmse))"
      ],
      "execution_count": 51,
      "outputs": [
        {
          "output_type": "stream",
          "text": [
            "Regressão Elastic Net: RMSE = 1.6673583561445564\n"
          ],
          "name": "stdout"
        }
      ]
    },
    {
      "cell_type": "code",
      "metadata": {
        "id": "zAP1Cn1CIfuA",
        "colab_type": "code",
        "colab": {
          "base_uri": "https://localhost:8080/",
          "height": 357
        },
        "outputId": "562f79d1-c37a-4c54-db3a-e9dfbb1bc40a"
      },
      "source": [
        "sorted(lin_reg_elastic3.coef_, reverse=True)[:20]"
      ],
      "execution_count": 52,
      "outputs": [
        {
          "output_type": "execute_result",
          "data": {
            "text/plain": [
              "[1.4842564628014658,\n",
              " 0.6544713748586815,\n",
              " 0.5960026655281212,\n",
              " 0.5496947873322934,\n",
              " 0.528710729936831,\n",
              " 0.5287107298928807,\n",
              " 0.5275204179612393,\n",
              " 0.45707402993040563,\n",
              " 0.43327255001792114,\n",
              " 0.4292229269155247,\n",
              " 0.41412004848872086,\n",
              " 0.41027100138824385,\n",
              " 0.40801269095140935,\n",
              " 0.4013095403379067,\n",
              " 0.39625338069636673,\n",
              " 0.3759320964071202,\n",
              " 0.37509900987109274,\n",
              " 0.35901787480268266,\n",
              " 0.33519800606060063,\n",
              " 0.3345389039975558]"
            ]
          },
          "metadata": {
            "tags": []
          },
          "execution_count": 52
        }
      ]
    },
    {
      "cell_type": "code",
      "metadata": {
        "id": "yy6vBYHIIfzC",
        "colab_type": "code",
        "colab": {
          "base_uri": "https://localhost:8080/",
          "height": 34
        },
        "outputId": "dae3f332-d66d-46b6-c01c-456925e908f3"
      },
      "source": [
        "lin_reg_elastic4.fit(X_train, logit(y_train))\n",
        "\n",
        "y_pred = lin_reg_elastic4.predict(X_validate)\n",
        "lin_reg_elastic_rmse = np.sqrt(mean_squared_error(logit(y_validate), y_pred))\n",
        "print('Regressão Elastic Net: RMSE = {}'.format(lin_reg_elastic_rmse))"
      ],
      "execution_count": 53,
      "outputs": [
        {
          "output_type": "stream",
          "text": [
            "Regressão Elastic Net: RMSE = 1.6478007382306028\n"
          ],
          "name": "stdout"
        }
      ]
    },
    {
      "cell_type": "code",
      "metadata": {
        "id": "ZF-3j5QoIgDr",
        "colab_type": "code",
        "colab": {
          "base_uri": "https://localhost:8080/",
          "height": 357
        },
        "outputId": "d4d53c94-054c-4480-a03b-4484059bcdff"
      },
      "source": [
        "sorted(lin_reg_elastic4.coef_, reverse=True)[:20]"
      ],
      "execution_count": 54,
      "outputs": [
        {
          "output_type": "execute_result",
          "data": {
            "text/plain": [
              "[1.9955157166836397,\n",
              " 1.9849345550609319,\n",
              " 1.947705706631836,\n",
              " 1.943629816097248,\n",
              " 1.9182493753953629,\n",
              " 1.8634417602215068,\n",
              " 1.8506299655666063,\n",
              " 1.785703793802888,\n",
              " 1.7288951872340932,\n",
              " 1.7211373424446124,\n",
              " 1.7003621405192133,\n",
              " 1.6155001141268015,\n",
              " 1.5695810858101136,\n",
              " 1.5338203877240615,\n",
              " 1.5258749977327768,\n",
              " 1.4997079113491083,\n",
              " 1.4985613349447309,\n",
              " 1.4916439856498631,\n",
              " 1.490534103010945,\n",
              " 1.4564193763965303]"
            ]
          },
          "metadata": {
            "tags": []
          },
          "execution_count": 54
        }
      ]
    },
    {
      "cell_type": "code",
      "metadata": {
        "id": "r38NfSvFMAj0",
        "colab_type": "code",
        "colab": {
          "base_uri": "https://localhost:8080/",
          "height": 88
        },
        "outputId": "c7828050-148c-4241-dbb0-765ab7c2a747"
      },
      "source": [
        "lin_reg_elastic5.fit(X_train, logit(y_train))\n",
        "\n",
        "y_pred = lin_reg_elastic5.predict(X_validate)\n",
        "lin_reg_elastic_rmse = np.sqrt(mean_squared_error(logit(y_validate), y_pred))\n",
        "print('Regressão Elastic Net: RMSE = {}'.format(lin_reg_elastic_rmse))"
      ],
      "execution_count": 55,
      "outputs": [
        {
          "output_type": "stream",
          "text": [
            "Regressão Elastic Net: RMSE = 1.7353045070392998\n"
          ],
          "name": "stdout"
        },
        {
          "output_type": "stream",
          "text": [
            "/usr/local/lib/python3.6/dist-packages/sklearn/linear_model/_coordinate_descent.py:476: ConvergenceWarning: Objective did not converge. You might want to increase the number of iterations. Duality gap: 13460.73735863479, tolerance: 5.2899485249496125\n",
            "  positive)\n"
          ],
          "name": "stderr"
        }
      ]
    },
    {
      "cell_type": "code",
      "metadata": {
        "id": "tiUfkROdMAhT",
        "colab_type": "code",
        "colab": {
          "base_uri": "https://localhost:8080/",
          "height": 357
        },
        "outputId": "f93da750-3a77-4511-a6bb-63ff03068f50"
      },
      "source": [
        "sorted(lin_reg_elastic5.coef_, reverse=True)[:20]"
      ],
      "execution_count": 56,
      "outputs": [
        {
          "output_type": "execute_result",
          "data": {
            "text/plain": [
              "[3.9621012008682723,\n",
              " 3.950853482109427,\n",
              " 3.943132629761766,\n",
              " 3.712929521318381,\n",
              " 3.669639130364649,\n",
              " 3.349629983447282,\n",
              " 3.3465592414017062,\n",
              " 3.3099360874433432,\n",
              " 3.301827824824555,\n",
              " 3.2593288429200276,\n",
              " 3.2455826122314066,\n",
              " 3.209562849039672,\n",
              " 3.1579639239415074,\n",
              " 3.14676052179382,\n",
              " 3.1438393706790784,\n",
              " 3.0973480452080313,\n",
              " 3.0916247435592767,\n",
              " 3.08920069179739,\n",
              " 3.082414185391904,\n",
              " 3.0710850342626816]"
            ]
          },
          "metadata": {
            "tags": []
          },
          "execution_count": 56
        }
      ]
    },
    {
      "cell_type": "markdown",
      "metadata": {
        "id": "WEMb99Sdbnhy",
        "colab_type": "text"
      },
      "source": [
        "Após esse ajuste manual de hiperparâmetros, o melhor alpha encontrado foi de 0.0001. Um valor menor que esse fez com que o modelo tivesse dificuldades para convergir.\n",
        "\n",
        "A partir disso, mais features estão sendo levadas em conta no modelo e poderemos estudar melhor essas features."
      ]
    },
    {
      "cell_type": "markdown",
      "metadata": {
        "id": "tZgZsm6_IQ4Q",
        "colab_type": "text"
      },
      "source": [
        "# Score Final e Salvando o modelo\n",
        "\n",
        "Aqui, vamos verificar o score final (ou erro final) do nosso modelo Elastic Net com os hiperparâmetros ajustados. O modelo, então, é treinado com os dados de treino e testado com os dados de teste. \n",
        "\n",
        "Por fim, treinamos o modelo com todos os dados disponíveis juntos e salvamos o modelo para a aplicação e uso posterior."
      ]
    },
    {
      "cell_type": "code",
      "metadata": {
        "id": "lBamtOirIXLu",
        "colab_type": "code",
        "colab": {
          "base_uri": "https://localhost:8080/",
          "height": 34
        },
        "outputId": "33be1899-f796-4c17-d63e-0bcabf2e536d"
      },
      "source": [
        "lin_reg_elastic4.fit(steam, logit(steam_labels))\n",
        "\n",
        "# Variáveis independentes: dataset original menos a coluna de valores dependentes.\n",
        "test_steam = strat_test_set.drop([\"positive_rate\"], axis=1)\n",
        "\n",
        "# Variável dependente, também chamada de label.\n",
        "test_steam_labels = strat_test_set[\"positive_rate\"].copy()\n",
        "\n",
        "y_pred = lin_reg_elastic4.predict(test_steam)\n",
        "lin_reg_elastic_rmse = np.sqrt(mean_squared_error(logit(test_steam_labels), y_pred))\n",
        "print('Score final (Regressão Elastic Net): RMSE = {}'.format(lin_reg_elastic_rmse))"
      ],
      "execution_count": 57,
      "outputs": [
        {
          "output_type": "stream",
          "text": [
            "Score final (Regressão Elastic Net): RMSE = 1.63598171623662\n"
          ],
          "name": "stdout"
        }
      ]
    },
    {
      "cell_type": "code",
      "metadata": {
        "id": "rqQe0F747QnC",
        "colab_type": "code",
        "colab": {
          "base_uri": "https://localhost:8080/",
          "height": 34
        },
        "outputId": "9da3ff1e-e10d-4a24-d44c-2f4ef9b2e4f1"
      },
      "source": [
        "# separação do X e y de todos os dados disponíveis\n",
        "\n",
        "# Variáveis independentes: dataset original menos a coluna de valores dependentes.\n",
        "all_steam = df.drop([\"positive_rate\"], axis=1)\n",
        "\n",
        "# Variável dependente, também chamada de label.\n",
        "all_steam_labels = df[\"positive_rate\"].copy()\n",
        "\n",
        "lin_reg_elastic4.fit(all_steam, logit(all_steam_labels))\n",
        "\n",
        "#salvando o modelo final\n",
        "dump(lin_reg_elastic4, 'steam_positive_rate_predictor.joblib')\n"
      ],
      "execution_count": 58,
      "outputs": [
        {
          "output_type": "execute_result",
          "data": {
            "text/plain": [
              "['steam_positive_rate_predictor.joblib']"
            ]
          },
          "metadata": {
            "tags": []
          },
          "execution_count": 58
        }
      ]
    },
    {
      "cell_type": "markdown",
      "metadata": {
        "id": "zU2o8emCN2li",
        "colab_type": "text"
      },
      "source": [
        "Vale lembrar que o modelo foi treinado para prever o *logito* da razão de *reviews* positivas. Para usar o modelo, após prever o logito, basta aplicar nele a função logística descrita pela fórmula abaixo:"
      ]
    },
    {
      "cell_type": "markdown",
      "metadata": {
        "id": "2E3KfeS8OP48",
        "colab_type": "text"
      },
      "source": [
        "$$\n",
        "\\sigma(x) = \\frac{1}{1 + e^{-x}}\n",
        "$$"
      ]
    },
    {
      "cell_type": "markdown",
      "metadata": {
        "id": "DYwndL8WlMnf",
        "colab_type": "text"
      },
      "source": [
        "# Importância das Características\n",
        "\n",
        "Antes de analisar os coeficientes do Elastic Net, vamos utilizar uma importante ferramenta da Random Forest para ter mais insights. Esse modelo possibilita verificar os pesos de cada feature para a predição. Esses pesos são dados pela `feature_importances_`."
      ]
    },
    {
      "cell_type": "code",
      "metadata": {
        "id": "7ouUv_xAlNr8",
        "colab_type": "code",
        "colab": {
          "base_uri": "https://localhost:8080/",
          "height": 51
        },
        "outputId": "3f53c5cf-2b16-48de-9802-3ab826bf2f97"
      },
      "source": [
        "forest_reg.fit(steam, steam_labels)\n",
        "feature_importances = forest_reg.feature_importances_\n",
        "feature_importances"
      ],
      "execution_count": 59,
      "outputs": [
        {
          "output_type": "execute_result",
          "data": {
            "text/plain": [
              "array([6.11704297e-03, 1.03867931e-01, 1.34483327e-02, ...,\n",
              "       9.56536652e-04, 5.27607465e-05, 1.27067366e-04])"
            ]
          },
          "metadata": {
            "tags": []
          },
          "execution_count": 59
        }
      ]
    },
    {
      "cell_type": "code",
      "metadata": {
        "id": "VB2AC4cb7Qpu",
        "colab_type": "code",
        "colab": {
          "base_uri": "https://localhost:8080/",
          "height": 357
        },
        "outputId": "354b86dd-c29e-482d-85de-670a557aad62"
      },
      "source": [
        "attribs = list(steam)\n",
        "sorted(zip(feature_importances, attribs), reverse=True)[:20]"
      ],
      "execution_count": 60,
      "outputs": [
        {
          "output_type": "execute_result",
          "data": {
            "text/plain": [
              "[(0.11518398098610597, 'price'),\n",
              " (0.10386793127885081, 'achievements'),\n",
              " (0.015296392972570932, 'pub_others'),\n",
              " (0.014841605719025713, 'genres_Casual'),\n",
              " (0.014402980481293213, 'tags_Action'),\n",
              " (0.014014916766343064, 'platform_mac'),\n",
              " (0.013832122954315578, 'median_playtime'),\n",
              " (0.013465773156250813, 'dev_others'),\n",
              " (0.013448332654028849, 'average_playtime'),\n",
              " (0.013216795922926444, 'tags_Casual'),\n",
              " (0.012667520525909779, 'tags_Adventure'),\n",
              " (0.012459535608621865, 'tags_Indie'),\n",
              " (0.012361762541313614, 'genres_Adventure'),\n",
              " (0.011989562804269905, 'genres_Indie'),\n",
              " (0.011634716772857797, 'genres_Action'),\n",
              " (0.011581159334421456, 'genres_Simulation'),\n",
              " (0.010901349822229376, 'genres_RPG'),\n",
              " (0.010639164765735882, 'genres_Strategy'),\n",
              " (0.010126997220305281, 'platform_linux'),\n",
              " (0.009831971986479598, 'tags_Strategy')]"
            ]
          },
          "metadata": {
            "tags": []
          },
          "execution_count": 60
        }
      ]
    },
    {
      "cell_type": "markdown",
      "metadata": {
        "id": "_ectv579Gk-p",
        "colab_type": "text"
      },
      "source": [
        "Como observado, as 10 características que mais afetam nossa variável dependente são:\n",
        "  1. o preço\n",
        "  2. a quantidade de *achievements* (conquistas)\n",
        "  3. ser de um *publisher* pequeno (de apenas 1 jogo)\n",
        "  4. ser do gênero: Casual\n",
        "  5. ter o tag: Ação\n",
        "  6. a mediana do tempo de jogado pelos usuários\n",
        "  7. estar disponível para a plataforma mac\n",
        "  8. ter o tag: Casual\n",
        "  9. a média do tempo de jogado pelos usuários\n",
        "  10. ser de um *developer* pequeno (de apenas 1 jogo)\n",
        "\n",
        "Temos destaque para preço e conquistas, que possuem uma ordem de grandeza superior às outras características. Infelizmente, não é possível extrair disso a informação sobre se essas características afetam positivamente ou negativamente o score final, somente que elas são importantes. Essa é uma limitação da Random Forest.\n",
        "\n",
        "Contudo, podemos inferir algumas coisas sobre as duas primeiras características. O preço muitas vezes pode estar ligado a jogos Free-To-Play que estão ganhando muita popularidade devido às suas [microtransações](https://en.wikipedia.org/wiki/Microtransaction). Alguns jogos grátis com conteúdo extra pago são: Counter-Strike: Global Offensive, Dota 2 e o próprio Fornite (apesar desse último não ser da Steam). Esses exemplos são os jogos mais rentáveis da história do mercado de games.\n",
        "\n",
        "Ainda, a presença de conquistas (*achievements*) como uma característica forte na influência do sucesso do jogo pode ser devido ao ato de **zerar** (ou **platinar**) o jogo. Para jogadores *hardcore* essas conquistas são bastante atrativas, pois geralmente eles tentam fazer todas, independentemente da dificuldade. É o exemplo da série Dark Souls, jogos com diversas conquistas e dificuldade elevadíssima, também extremamente rentáveis e populares.\n"
      ]
    },
    {
      "cell_type": "markdown",
      "metadata": {
        "id": "gmPOKdgdkrvR",
        "colab_type": "text"
      },
      "source": [
        "### Análise dos coeficientes do modelo final\n",
        "\n",
        "Finalmente, vamos analisar os coeficientes dos pesos do nosso modelo gerado no projeto. Aqui, quanto maior o coeficiente, maior seu peso e consequentemente, maior o impacto dessa variável nas predições do modelo. Assim, podemos separar que variáveis são mais importantes para o sucesso de um jogo na Steam."
      ]
    },
    {
      "cell_type": "code",
      "metadata": {
        "id": "f3L4ZuOnky4g",
        "colab_type": "code",
        "colab": {
          "base_uri": "https://localhost:8080/",
          "height": 527
        },
        "outputId": "fd303295-a6ab-43ab-e065-2ac6240d1694"
      },
      "source": [
        "attribs = list(steam)\n",
        "sorted(zip(lin_reg_elastic4.coef_, attribs), reverse=True)[:30]"
      ],
      "execution_count": 61,
      "outputs": [
        {
          "output_type": "execute_result",
          "data": {
            "text/plain": [
              "[(0.7054550327144805, 'pub_Big Fish Games'),\n",
              " (0.5710731506525448, 'dev_Tiny Warrior Games'),\n",
              " (0.5393312927813543, 'pub_Excalibur Publishing'),\n",
              " (0.5182562979482962, 'dev_Wastelands Interactive'),\n",
              " (0.4909605910075704, 'pub_Dikobraz Games'),\n",
              " (0.47554494754037246, 'pub_NekoNyan Ltd.'),\n",
              " (0.4531040420681427, 'dev_CHARON'),\n",
              " (0.44475196568500275, 'dev_IGGYMOB Co.,Ltd'),\n",
              " (0.4438689608650628, 'pub_Astronomic Games'),\n",
              " (0.4366837829668376, 'dev_VERTEX HORIZON'),\n",
              " (0.4296845953363248, 'pub_Oh, a Rock! Studios'),\n",
              " (0.42706748369123515, 'dev_Workroom7'),\n",
              " (0.42444014770598765, 'dev_Flying Panjandrum / ふらいんぐパンジャンドラム'),\n",
              " (0.4244401398542611, 'pub_Flying Panjandrum / ふらいんぐパンジャンドラム'),\n",
              " (0.4236549578491766, 'dev_Visual Concepts'),\n",
              " (0.4224955281231739, 'dev_Adept Studios GD'),\n",
              " (0.40609617503393697, 'pub_VT Publishing'),\n",
              " (0.39519337750072553, 'pub_Light Maze'),\n",
              " (0.3937568845465052, 'dev_SpielmannSpiel'),\n",
              " (0.3910167214379752, 'dev_Andy Jurko'),\n",
              " (0.3910166688527639, 'pub_Andy Jurko'),\n",
              " (0.38642621655194065, 'pub_United Independent Entertainment GmbH'),\n",
              " (0.3850282468267284, 'dev_TACS Games'),\n",
              " (0.3826161909529456, 'pub_RevolutionGT'),\n",
              " (0.37353297637596783, 'dev_Lost Astronaut Studios'),\n",
              " (0.3657433171763111, 'dev_Nekyau Games'),\n",
              " (0.3651803893064411, 'dev_Kedronic UAB'),\n",
              " (0.36518035571418156, 'pub_Kedronic UAB'),\n",
              " (0.3649137602278608, 'pub_Mongoose Net Ltd.'),\n",
              " (0.3598147364787075, 'dev_Activision')]"
            ]
          },
          "metadata": {
            "tags": []
          },
          "execution_count": 61
        }
      ]
    },
    {
      "cell_type": "code",
      "metadata": {
        "id": "V9h6qQKBzTtF",
        "colab_type": "code",
        "colab": {
          "base_uri": "https://localhost:8080/",
          "height": 527
        },
        "outputId": "1637ebc3-069e-42f7-d072-8d7e081c4f75"
      },
      "source": [
        "sorted(zip(lin_reg_elastic4.coef_, attribs))[:30]"
      ],
      "execution_count": 62,
      "outputs": [
        {
          "output_type": "execute_result",
          "data": {
            "text/plain": [
              "[(-0.7162706537449347, 'dev_Big Fish Games'),\n",
              " (-0.46746911702874894, 'pub_轻文'),\n",
              " (-0.42074932195208653, 'tags_Colorful'),\n",
              " (-0.3872336769801989, 'dev_Big Fish Studios'),\n",
              " (-0.3612733518823536, 'pub_Konstructors Entertainment'),\n",
              " (-0.35873528929426474, 'dev_Terminal Reality'),\n",
              " (-0.33972758148190196, 'tags_Chess'),\n",
              " (-0.31701437538864596, 'dev_Remedy Entertainment'),\n",
              " (-0.3131173121589584, 'tags_Controller'),\n",
              " (-0.3108001302058288, 'pub_Fat Dog Games'),\n",
              " (-0.30125796590818354, 'pub_RunServer'),\n",
              " (-0.30045544046825995, 'tags_Software'),\n",
              " (-0.2994396253795674, 'pub_SNK CORPORATION'),\n",
              " (-0.2873687097073155, 'dev_MyDreamForever_Old'),\n",
              " (-0.2868705866658524, 'pub_PopCap Games, Inc.'),\n",
              " (-0.2782884692658463, 'dev_Toyman Interactive'),\n",
              " (-0.27471891955935757, 'pub_Fruitbat Factory'),\n",
              " (-0.27368604980805294, 'pub_OtakuMaker.com'),\n",
              " (-0.27078533189246445, 'pub_Another Indie'),\n",
              " (-0.2705181233216176, 'tags_Choose Your Own Adventure'),\n",
              " (-0.26549397039653555, 'pub_Kagura Games'),\n",
              " (-0.2628644565618265, 'pub_Tri Synergy, Inc.'),\n",
              " (-0.2609290560343677, 'pub_Kiss Publishing Ltd'),\n",
              " (-0.2606577793114355, 'pub_Grove Street Games'),\n",
              " (-0.2606577609362608, 'dev_Grove Street Games'),\n",
              " (-0.2527413777541312, 'dev_Flying. Stone. Production'),\n",
              " (-0.2514708458856678, 'pub_Adult Swim Games'),\n",
              " (-0.248656114736063, 'dev_Somer Games'),\n",
              " (-0.24826818194870146, 'tags_Classic'),\n",
              " (-0.24426714708126546, 'pub_Sysdia Games')]"
            ]
          },
          "metadata": {
            "tags": []
          },
          "execution_count": 62
        }
      ]
    },
    {
      "cell_type": "markdown",
      "metadata": {
        "id": "vqMvN0gPo6lz",
        "colab_type": "text"
      },
      "source": [
        "Aqui fizemos duas ordenações: as variáveis com mais peso *positivo* e aquelas com mais peso *negativo* nas predições. Assim, temos duas listas com as 30 features mais importantes de cada segmento.\n",
        "\n",
        "Curiosamente, um jogo publicado pela Big Fish Games é relevante para o sucesso dele, mas se ele foi desenvolvido por essa empresa, é relevante para seu **fracasso**.\n",
        "\n",
        "Agora, podemos observar que muitas dessas features são de `developers & publishers`. Para verificar as outras features, vamos remover os devs e pubs da comparação."
      ]
    },
    {
      "cell_type": "code",
      "metadata": {
        "id": "3mBDAQxDkrAE",
        "colab_type": "code",
        "colab": {
          "base_uri": "https://localhost:8080/",
          "height": 527
        },
        "outputId": "fd5c69c6-d0f8-41a6-f78c-648fb38e032b"
      },
      "source": [
        "# tirando os pubs e devs para ver o resto\n",
        "i = 0\n",
        "for e in sorted(zip(lin_reg_elastic4.coef_, attribs), reverse=True):\n",
        "  if e[1][:3] != 'dev' and e[1][:3] != 'pub':\n",
        "    i += 1\n",
        "    print(e)\n",
        "  if i == 30:\n",
        "    break"
      ],
      "execution_count": 63,
      "outputs": [
        {
          "output_type": "stream",
          "text": [
            "(0.2712187265716437, 'tags_VR Only')\n",
            "(0.22223491702211984, 'genres_Early Access')\n",
            "(0.20848883802997392, 'tags_3D')\n",
            "(0.19999926510803753, 'owners_0-20000')\n",
            "(0.18808866368982724, 'tags_Procedural Generation')\n",
            "(0.18518101043985427, 'tags_Romance')\n",
            "(0.1763372231164349, 'genres_Accounting')\n",
            "(0.16440150382486823, 'tags_Baseball')\n",
            "(0.09819952861570692, 'tags_MMORPG')\n",
            "(0.08780082361432998, 'tags_Utilities')\n",
            "(0.08274113870330922, 'tags_Puzzle-Platformer')\n",
            "(0.08175575850807652, 'age_18')\n",
            "(0.07371735742300371, 'genres_Racing')\n",
            "(0.07072468365736083, 'tags_Comic Book')\n",
            "(0.06937333164917366, 'tags_Top-Down Shooter')\n",
            "(0.04868080805815167, 'age_0')\n",
            "(0.048029260453103274, 'tags_Match 3')\n",
            "(0.04153640149793453, 'genres_Massively Multiplayer')\n",
            "(0.03275739820271361, 'tags_Villain Protagonist')\n",
            "(0.028312305480543573, 'tags_Medieval')\n",
            "(0.024628256322050505, 'genres_Gore')\n",
            "(0.020125540909120842, 'tags_Sokoban')\n",
            "(0.019897457037631218, 'tags_Action RPG')\n",
            "(0.018951978709579556, 'tags_Cute')\n",
            "(0.016685952004360325, 'owners_50000-100000')\n",
            "(0.016112453961087334, 'genres_Nudity')\n",
            "(0.014820998363374692, 'owners_10000000-20000000')\n",
            "(0.014816962375189755, 'owners_200000-500000')\n",
            "(0.013367620321627045, 'tags_Driving')\n",
            "(0.009760295625059043, 'genres_Design & Illustration')\n"
          ],
          "name": "stdout"
        }
      ]
    },
    {
      "cell_type": "code",
      "metadata": {
        "id": "sw9zw04Bzkri",
        "colab_type": "code",
        "colab": {
          "base_uri": "https://localhost:8080/",
          "height": 527
        },
        "outputId": "49b00714-e1bb-4cee-ec68-e86d692a05b9"
      },
      "source": [
        "# tirando os pubs e devs para ver o resto (negativos)\n",
        "i = 0\n",
        "for e in sorted(zip(lin_reg_elastic4.coef_, attribs)):\n",
        "  if e[1][:3] != 'dev' and e[1][:3] != 'pub':\n",
        "    i += 1\n",
        "    print(e)\n",
        "  if i == 30:\n",
        "    break"
      ],
      "execution_count": 64,
      "outputs": [
        {
          "output_type": "stream",
          "text": [
            "(-0.42074932195208653, 'tags_Colorful')\n",
            "(-0.33972758148190196, 'tags_Chess')\n",
            "(-0.3131173121589584, 'tags_Controller')\n",
            "(-0.30045544046825995, 'tags_Software')\n",
            "(-0.2705181233216176, 'tags_Choose Your Own Adventure')\n",
            "(-0.24826818194870146, 'tags_Classic')\n",
            "(-0.24385923229651307, 'tags_Hacking')\n",
            "(-0.23964109088648838, 'tags_Card Game')\n",
            "(-0.2391005066929292, 'tags_2D Fighter')\n",
            "(-0.22676829581909216, 'tags_Tanks')\n",
            "(-0.2227623809502472, 'tags_Exploration')\n",
            "(-0.2196013863481163, 'genres_Video Production')\n",
            "(-0.21749537234655794, 'tags_Robots')\n",
            "(-0.21199223998835887, 'tags_Early Access')\n",
            "(-0.20698159482277143, 'tags_Rhythm')\n",
            "(-0.20272052250722813, 'tags_World War I')\n",
            "(-0.19927932730658934, 'tags_Choices Matter')\n",
            "(-0.19759617256691972, 'tags_Mechs')\n",
            "(-0.18697829530672552, 'genres_Utilities')\n",
            "(-0.18175492860707054, 'tags_Local Multiplayer')\n",
            "(-0.18147641747276588, 'tags_3D Platformer')\n",
            "(-0.1809756907391874, 'tags_Programming')\n",
            "(-0.17330354668656892, 'tags_Time Management')\n",
            "(-0.1730360694783581, 'tags_Gore')\n",
            "(-0.17265488007369806, 'tags_Anime')\n",
            "(-0.17231160883921642, 'tags_Audio Production')\n",
            "(-0.17186040899360386, 'tags_Tower Defense')\n",
            "(-0.16713218097966767, 'tags_VR')\n",
            "(-0.16612790939823005, 'tags_Lemmings')\n",
            "(-0.16586288039628638, 'tags_Replay Value')\n"
          ],
          "name": "stdout"
        }
      ]
    },
    {
      "cell_type": "markdown",
      "metadata": {
        "id": "XcVwli_KsM9k",
        "colab_type": "text"
      },
      "source": [
        "Como pudemos ver, algumas tags são importantes para o reconhecimento do jogo, enquanto outras geralmente atrapalham seu crescimento.\n",
        "\n",
        "Algo interessante de se notar é a presença de VR Only nos positivos e VR nos negativos, para designar jogos de Virtual Reality (realidade virtual). Isso pode ser causado pelo *hype* dos jogos de realidade virtual. Geralmente apenas [boas experiências](https://store.steampowered.com/app/546560/HalfLife_Alyx/) de VR são aceitas na loja da Steam, enquanto que jogos que apenas adicionam o suporte não possuem funcionalidades tão interessantes.\n",
        "\n",
        "Ainda, temos a presença de Early Access tanto no positivo quanto no negativo, o que pode ser devido ao fato dos jogos serem conteúdos ainda em versão beta. Há uma grande inconsistência nessa parte, pois existem jogos Early Access lotados de bugs e sem muitas funcionalidades, enquanto existem outros que já possuem uma maturidade maior e mais qualidade.\n"
      ]
    },
    {
      "cell_type": "markdown",
      "metadata": {
        "id": "gU0dgzFalPqr",
        "colab_type": "text"
      },
      "source": [
        "# Conclusão\n",
        "\n",
        "Finalmente, pudemos utilizar as técnicas de Machine Learning aprendidas em aula para construir um preditor do sucesso de um jogo da Steam com base nas suas características e fazer uma análise das características mais importantes para o sucesso (ou não) deles. \n",
        "\n",
        "Pudemos notar que o preço e conquistas são importantes fatores devido ao modelo de Random Forest e seu `feature_importances_`. Contudo, não conseguimos ter uma certeza do tipo de relação extraída aqui. Apesar de desconfiarmos dos jogos free-to-play e dos gamers que gostam de zerar os jogos, não temos uma certeza.\n",
        "\n",
        "Através do modelo de Elastic Net, pudemos verificar que algumas tags (ou categorias) dos jogos são positivas e negativas em relação ao sucesso:\n",
        "\n",
        "* Positivo: VR Only, Early Access, 3D, ..., poucos owners, Procedural Generation, Romance.\n",
        "\n",
        "* Negativo: Colorful, Chess, Controller, Software, ...,  VR.\n",
        "\n",
        "Aqui levantamos a causa dos jogos de Realidade Virtual e os jogos Early Access cuja qualidade de implementação varia, consequentemente mudando as reviews da comunidade.\n",
        "\n",
        "Apesar de não termos conclusões exatas sobre quais características são definitivas para o sucesso de um jogo da Steam, conseguimos extrair algumas análises interessantes do nosso projeto, abrindo espaço e auxiliando análises mais profundas ainda nesse mercado gigantesco.\n",
        "\n",
        "Como próximos passos do projeto, gostaríamos de abordar dois tópicos principais: o ajuste fino dos hiperparâmetros e cross-validation, além do chamado *Variable Ranking*.\n",
        "Como tivemos a limitação da RAM no projeto e não conseguimos rodar cross_val e o GridSearchCV, não foi possível construir os modelos da forma mais adequada possível, abrindo espaço para melhorias aqui.\n",
        "\n",
        "Além disso, gostaríamos de trabalhar melhor a técnica de *Variable Ranking*, que é o processo de ordernar as features pelo valor de alguma função de custo, que medirá a relevância das features pelo modelo."
      ]
    },
    {
      "cell_type": "code",
      "metadata": {
        "id": "lrmyaixYddE8",
        "colab_type": "code",
        "colab": {}
      },
      "source": [
        ""
      ],
      "execution_count": 64,
      "outputs": []
    }
  ]
}